{
 "cells": [
  {
   "cell_type": "code",
   "execution_count": 1,
   "id": "6f95163c-6b18-4b33-9b60-4175f1ddc477",
   "metadata": {
    "tags": []
   },
   "outputs": [],
   "source": [
    "import torch\n",
    "import numpy as np\n",
    "import torch.nn as nn\n",
    "from mass_spring import get_dataset\n",
    "from tqdm import tqdm\n",
    "from torch.autograd import grad\n",
    "from model import *\n",
    "torch.manual_seed(42)\n",
    "np.random.seed(42)\n",
    "# from solvers import *"
   ]
  },
  {
   "cell_type": "code",
   "execution_count": 2,
   "id": "d696ae8e-f7f5-4ad8-bc07-e68e18ada792",
   "metadata": {
    "tags": []
   },
   "outputs": [],
   "source": [
    "def euler(p_0, q_0, Func, T, dt, volatile=True, is_Hamilt=True, device='cpu', use_tqdm=False):\n",
    "    trajectories = torch.empty((T, p_0.shape[0], 2 * p_0.shape[1]), requires_grad=False).to(device)\n",
    "    # with torch.enable_grad():\n",
    "    p = p_0\n",
    "    q = q_0\n",
    "    p.requires_grad_()\n",
    "    q.requires_grad_()\n",
    "\n",
    "    if use_tqdm:\n",
    "        range_of_for_loop = tqdm(range(T))\n",
    "    else:\n",
    "        range_of_for_loop = range(T)\n",
    "\n",
    "    if is_Hamilt:\n",
    "\n",
    "        for i in range_of_for_loop:\n",
    "\n",
    "            if volatile:\n",
    "                trajectories[i, :, :p_0.shape[1]] = p.detach()\n",
    "                trajectories[i, :, p_0.shape[1]:] = q.detach()\n",
    "            else:\n",
    "                trajectories[i, :, :p_0.shape[1]] = p\n",
    "                trajectories[i, :, p_0.shape[1]:] = q\n",
    "\n",
    "            hamilt = Func(p, q)\n",
    "            dpdt = -grad(hamilt.sum(), q, create_graph=not volatile)[0]\n",
    "            dqdt = grad(hamilt.sum(), p, create_graph=not volatile)[0]\n",
    "\n",
    "            p_next = p + dpdt * dt\n",
    "            q_next = q + dqdt * dt\n",
    "\n",
    "            p = p_next\n",
    "            q = q_next\n",
    "\n",
    "    else:\n",
    "        dim = p_0.shape[1]\n",
    "\n",
    "        for i in range_of_for_loop:\n",
    "\n",
    "            if volatile:\n",
    "                trajectories[i, :, :dim] = p.detach()\n",
    "                trajectories[i, :, dim:] = q.detach()\n",
    "            else:\n",
    "                trajectories[i, :, :dim] = p\n",
    "\n",
    "            time_drvt = Func(torch.cat((p, q), 1))\n",
    "            dpdt = time_drvt[:, :dim]\n",
    "            dqdt = time_drvt[:, dim:]\n",
    "\n",
    "            p_next = p + dpdt * dt\n",
    "            q_next = q + dqdt * dt\n",
    "\n",
    "            p = p_next\n",
    "            q = q_next\n",
    "\n",
    "    return trajectories\n",
    "\n",
    "def numerically_integrate(integrator, p_0, q_0, model, method, T, dt, volatile, device, coarsening_factor=1):    \n",
    "    if (coarsening_factor > 1):\n",
    "        fine_trajectory = numerically_integrate(integrator, p_0, q_0, model, method, T * coarsening_factor, dt / coarsening_factor, volatile, device)\n",
    "        print(\"fine_trajectory\", fine_trajectory.shape)\n",
    "        trajectory_simulated = fine_trajectory[np.arange(T) * coarsening_factor, :, :]\n",
    "        print(\"trajectory_simulated\", trajectory_simulated.shape)\n",
    "        return trajectory_simulated\n",
    "    if (method == 5):\n",
    "        if (integrator == 'leapfrog'):\n",
    "            trajectory_simulated = leapfrog(p_0, q_0, model, T, dt, volatile=volatile, device=device)\n",
    "        elif (integrator == 'euler'):\n",
    "            trajectory_simulated = euler(p_0, q_0, model, T, dt, volatile=volatile, device=device)\n",
    "        elif (integrator == 'predictor_corrector'):\n",
    "            trajectory_simulated = predictor_corrector(p_0, q_0, model, T, dt, volatile=volatile, device=device)\n",
    "    elif (method == 1):\n",
    "        if (integrator == 'leapfrog'):\n",
    "            trajectory_simulated = leapfrog(p_0, q_0, model, T, dt, volatile=volatile, is_Hamilt=False, device=device)\n",
    "        elif (integrator == 'euler'):\n",
    "            trajectory_simulated = euler(p_0, q_0, model, T, dt, volatile=volatile, is_Hamilt=False, device=device)\n",
    "    else:\n",
    "        trajectory_simulated = model(torch.cat([p_0, q_0], dim=1), T)\n",
    "    return trajectory_simulated"
   ]
  },
  {
   "cell_type": "code",
   "execution_count": 3,
   "id": "eecb1170-e097-41bb-be30-82dc568c420b",
   "metadata": {
    "tags": []
   },
   "outputs": [],
   "source": [
    "def euler_solver(x, f, dt):\n",
    "    f_p, f_q, vjp_p, vjp_q, *dw = f(x)\n",
    "    p_next = x[0] + dt * f_p\n",
    "    q_next = x[1] + dt * f_q\n",
    "    vjp_p_next = x[2] + dt * vjp_p\n",
    "    vjp_q_next = x[3] + dt * vjp_q\n",
    "    dw_next = [x_ + dt * vjp_param for x_, vjp_param in zip(x[4:],dw)]\n",
    "    return p_next, q_next, vjp_p_next, vjp_q_next, *dw_next"
   ]
  },
  {
   "cell_type": "code",
   "execution_count": 12,
   "id": "4f3402f1-e597-4078-973a-dca34e0598c5",
   "metadata": {},
   "outputs": [],
   "source": [
    "class Hamiltonian_Adjoint(torch.autograd.Function):\n",
    "    @staticmethod\n",
    "    def forward(ctx, integrator, p_0, q_0, Func, T, dt, volatile, device, dim, *adjoint_params):\n",
    "        with torch.enable_grad():\n",
    "            trajectory = numerically_integrate(integrator, p_0, q_0, Func, 5, T, dt, volatile, device, 1).to(torch.float64)\n",
    "        ctx.save_for_backward(trajectory.clone(), p_0.clone(), q_0.clone(), *adjoint_params)\n",
    "        ctx.T = T\n",
    "        ctx.dt = dt\n",
    "        ctx.volatile = volatile\n",
    "        ctx.device = device\n",
    "        ctx.dim = dim\n",
    "        ctx.Func = Func\n",
    "        ctx.integrator = integrator\n",
    "        return trajectory[:, :, :dim], trajectory[:, :, dim:]\n",
    "        \n",
    "    @staticmethod\n",
    "    def backward(ctx, dldp, dldq):\n",
    "        with torch.no_grad():\n",
    "            T = ctx.T\n",
    "            dt = ctx.dt\n",
    "            volatile = ctx.volatile\n",
    "            integrator = ctx.integrator\n",
    "            dim = ctx.dim\n",
    "            device = ctx.device\n",
    "            Func = ctx.Func\n",
    "            trajectory, p_0, q_0, *adjoint_params = ctx.saved_tensors\n",
    "            aug_state = [trajectory[-1, :, :dim], trajectory[-1, :, dim:], dldp[-1, :, :], dldq[-1, :, :]] #(p, q, adjp, adjq)\n",
    "            aug_state.extend([torch.zeros_like(param) for param in adjoint_params])\n",
    "            def augmented_dynamics(y_aug):\n",
    "                p = y_aug[0]\n",
    "                q = y_aug[1]\n",
    "                with torch.enable_grad():\n",
    "                    p = p.detach().requires_grad_(True)\n",
    "                    q = q.detach().requires_grad_(True)\n",
    "                    H = Func(p, q)\n",
    "                    _p = torch.as_strided(p, (), ())  # noqa\n",
    "                    _q = torch.as_strided(q, (), ())  # noqa\n",
    "                    _params = tuple(torch.as_strided(param, (), ()) for param in adjoint_params)\n",
    "                    dhdp, dhdq = torch.autograd.grad(H.sum(), (p, q), allow_unused=True, retain_graph=True, create_graph=True)\n",
    "                    dhdpdq_1 = torch.autograd.grad(dhdp, q, -y_aug[3], allow_unused=True, retain_graph=True)\n",
    "                    dhdpdq_2 = torch.autograd.grad(dhdp, q, y_aug[2], allow_unused=True, retain_graph=True)\n",
    "                    dhdpdp = torch.autograd.grad(dhdp, p, -y_aug[3], allow_unused=True, retain_graph=True)\n",
    "                    dhdqdq = torch.autograd.grad(dhdq, q, y_aug[2], allow_unused=True, retain_graph=True)\n",
    "                    dhdpdw = torch.autograd.grad(dhdp, adjoint_params, -y_aug[3], allow_unused=True, retain_graph=True)\n",
    "                    dhdqdw = torch.autograd.grad(dhdq, adjoint_params, y_aug[2], allow_unused=True, retain_graph=True)\n",
    "                    \n",
    "                    dhdpdq_1 = [torch.zeros_like(p) if param is None else param for param in dhdpdq_1]\n",
    "                    dhdpdq_2 = [torch.zeros_like(q) if param is None else param for param in dhdpdq_2]\n",
    "                    dhdpdp = torch.zeros_like(p) if dhdpdp is None else dhdpdp\n",
    "                    dhdqdq = torch.zeros_like(q) if dhdqdq is None else dhdqdq\n",
    "                    dhdpdw = [torch.zeros_like(param) if vjp_param is None else vjp_param\n",
    "                              for param, vjp_param in zip(adjoint_params, dhdpdw)]\n",
    "                    dhdqdw = [torch.zeros_like(param) if vjp_param is None else vjp_param\n",
    "                              for param, vjp_param in zip(adjoint_params, dhdqdw)]\n",
    "                    dw = list(dhdp_param + dhdq_param for dhdp_param, dhdq_param in zip(dhdpdw, dhdqdw))\n",
    "                    f_p = -dhdp\n",
    "                    f_q = dhdq\n",
    "                    adjoint_p = dhdpdq_1[0] + dhdqdq[0]\n",
    "                    adjoint_q = dhdpdp[0] + dhdpdq_2[0]\n",
    "                    return f_p, f_q, adjoint_p, adjoint_q, *dw\n",
    "                \n",
    "            for i in range(T-1, 0, -1):\n",
    "                p_next, q_next, vjp_p_next, vjp_q_next, *dw_next = euler_solver(aug_state, augmented_dynamics, dt)\n",
    "                aug_state[0] = trajectory[i-1, :, :dim]\n",
    "                aug_state[1] = trajectory[i-1, :, dim:]\n",
    "                aug_state[2] = vjp_p_next + dldp[i-1, :, :]\n",
    "                aug_state[3] = vjp_q_next + dldq[i-1, :, :]\n",
    "                aug_state[4:] = dw_next\n",
    "            adj_p = aug_state[2]\n",
    "            adj_q = aug_state[3]\n",
    "            adj_params = aug_state[4:]\n",
    "        return None, adj_p, adj_q, None, None, None, None, None, None, *adj_params"
   ]
  },
  {
   "cell_type": "code",
   "execution_count": 13,
   "id": "6a669b22-2713-423c-8404-73417528d8b1",
   "metadata": {
    "tags": []
   },
   "outputs": [],
   "source": [
    "def hnn_adjoint(integrator, func, p0, q0, T, dt, volatile, device, dim):\n",
    "    adjoint_params = tuple(list(func.parameters()))\n",
    "    adjoint_params = tuple(p for p in adjoint_params if p.requires_grad)\n",
    "    p, q = Hamiltonian_Adjoint.apply(integrator, p0, q0, func, T, dt, volatile, device, dim, *adjoint_params)\n",
    "    return p, q"
   ]
  },
  {
   "cell_type": "code",
   "execution_count": 14,
   "id": "f7193856-672e-41ec-8309-9e04df6c4157",
   "metadata": {
    "tags": []
   },
   "outputs": [],
   "source": [
    "class Symplectic_HNN(nn.Module):\n",
    "    def __init__(self, n_hidden, input_size, integrator, T, dt, volatile, device, dim):\n",
    "        super(Symplectic_HNN, self).__init__()\n",
    "        self.func = MLP2H_Separable_Hamilt(n_hidden, input_size)\n",
    "        self.T = T\n",
    "        self.dt = dt\n",
    "        self.volatile = volatile\n",
    "        self.device = device\n",
    "        self.integrator = integrator\n",
    "        self.dim = input_size\n",
    "        self.dim = dim\n",
    "        \n",
    "    def forward(self, p_0, q_0):\n",
    "        p, q = hnn_adjoint(self.integrator, self.func, p_0, q_0, self.T, self.dt, self.volatile, self.device, self.dim)\n",
    "        # p, q = Hamiltonian_Adjoint.apply(self.integrator, p_0, q_0, self.func, self.T, self.dt, self.volatile, self.device, self.dim)\n",
    "        return torch.cat((p, q), axis = 2)"
   ]
  },
  {
   "cell_type": "code",
   "execution_count": 15,
   "id": "9b619c2b-0a94-458c-9b40-dc51b84920ac",
   "metadata": {},
   "outputs": [],
   "source": [
    "def train(integrator_train = 'euler'):\n",
    "    if torch.cuda.is_available():\n",
    "        device = torch.device('cuda:0')\n",
    "    else:\n",
    "        device = torch.device('cpu')\n",
    "    n_samples = 100\n",
    "    batch_size = 32\n",
    "    dim = 20\n",
    "    max_t = 100\n",
    "    n_epochs = 100\n",
    "    # integrator_train = integrator_train\n",
    "    dt = 1\n",
    "    method = 5\n",
    "    # data = get_dataset(seed = 42, samples = n_samples, noise = False)\n",
    "    # x = np.transpose(data['x'], (1, 0, 2))\n",
    "    # test_x = np.transpose(data['test_x'], (1, 0, 2))\n",
    "    data = np.load(\"train_data_chain_newA.npy\")[:, :n_samples,:]\n",
    "    test_data = np.load(\"test_data_chain_newA.npy\")\n",
    "    # data = x.copy()\n",
    "    # test_data = test_x.copy()\n",
    "    mse = nn.MSELoss()\n",
    "    z_0_npy = data[0, :, :]\n",
    "    # model = MLP3H_Separable_Hamilt(512, dim)\n",
    "    model = Symplectic_HNN(n_hidden = 2048, input_size = dim, integrator = integrator_train, T = max_t, dt = dt, volatile = False, device = device, dim = dim)\n",
    "    model = model.to(device).to(dtype=torch.float64)\n",
    "    # data = data.to(device)\n",
    "    # test_data = test_data.to(device)\n",
    "    # scheduler = ReduceLROnPlateau(opt_model, 'min', patience = scheduler_patience, verbose=True, factor=scheduler_factor)\n",
    "    params_lst = model.parameters()\n",
    "    opt_model = torch.optim.Adam(params_lst, lr=0.001)\n",
    "    loss_record = []\n",
    "    for epoch in tqdm(range(n_epochs)):\n",
    "        total_error = 0\n",
    "        perm = torch.randperm(n_samples).numpy().tolist()\n",
    "        data_permed = data[:, perm, :]\n",
    "        z_0_npy_permed = z_0_npy[perm, :]\n",
    "        for i in range(0, n_samples, batch_size):\n",
    "            opt_model.zero_grad()\n",
    "            if i+batch_size > n_samples:\n",
    "                break\n",
    "            batch = data_permed[:max_t, i:(i+batch_size), :]\n",
    "            z_0_batch_npy = z_0_npy_permed[i:(i+batch_size), :]\n",
    "            z_0_batch = torch.from_numpy(z_0_batch_npy).to(dtype=torch.float64)\n",
    "            z_0_batch_device = z_0_batch.to(device)\n",
    "            p_0 = z_0_batch_device[:, :dim]\n",
    "            q_0 = z_0_batch_device[:, dim:]\n",
    "            p_0.requires_grad = True\n",
    "            q_0.requires_grad = True\n",
    "            trajectory_simulated = model(p_0, q_0)\n",
    "            error_total = mse(trajectory_simulated[:max_t, :, :], torch.from_numpy(batch[:max_t, :, :]).to(device).to(dtype=torch.float64))\n",
    "            error_total.backward()\n",
    "            opt_model.step()\n",
    "            total_error += error_total.item() * batch_size\n",
    "        avg_loss_epoch = total_error/n_samples\n",
    "        loss_record.append(avg_loss_epoch)\n",
    "    return model, loss_record, test_data, device"
   ]
  },
  {
   "cell_type": "code",
   "execution_count": 16,
   "id": "31324ada-64aa-44f5-848c-ac6c26f59955",
   "metadata": {
    "tags": []
   },
   "outputs": [
    {
     "name": "stderr",
     "output_type": "stream",
     "text": [
      "  0%|                                                   | 0/100 [00:00<?, ?it/s]"
     ]
    },
    {
     "name": "stdout",
     "output_type": "stream",
     "text": [
      "torch.Size([32, 20])\n",
      "torch.Size([2048, 20])\n",
      "torch.Size([2048])\n",
      "torch.Size([2048, 2048])\n",
      "torch.Size([2048])\n",
      "torch.Size([1, 2048])\n",
      "torch.Size([1])\n",
      "torch.Size([2048, 20])\n",
      "torch.Size([2048])\n",
      "torch.Size([2048, 2048])\n",
      "torch.Size([2048])\n",
      "torch.Size([1, 2048])\n",
      "torch.Size([1])\n"
     ]
    },
    {
     "name": "stderr",
     "output_type": "stream",
     "text": [
      "  0%|                                                   | 0/100 [00:37<?, ?it/s]\n"
     ]
    },
    {
     "ename": "KeyboardInterrupt",
     "evalue": "",
     "output_type": "error",
     "traceback": [
      "\u001b[0;31m---------------------------------------------------------------------------\u001b[0m",
      "\u001b[0;31mKeyboardInterrupt\u001b[0m                         Traceback (most recent call last)",
      "Cell \u001b[0;32mIn[16], line 1\u001b[0m\n\u001b[0;32m----> 1\u001b[0m model_euler, loss_euler, test_data, device \u001b[38;5;241m=\u001b[39m \u001b[43mtrain\u001b[49m\u001b[43m(\u001b[49m\u001b[38;5;124;43m\"\u001b[39;49m\u001b[38;5;124;43meuler\u001b[39;49m\u001b[38;5;124;43m\"\u001b[39;49m\u001b[43m)\u001b[49m\n",
      "Cell \u001b[0;32mIn[15], line 49\u001b[0m, in \u001b[0;36mtrain\u001b[0;34m(integrator_train)\u001b[0m\n\u001b[1;32m     47\u001b[0m p_0\u001b[38;5;241m.\u001b[39mrequires_grad \u001b[38;5;241m=\u001b[39m \u001b[38;5;28;01mTrue\u001b[39;00m\n\u001b[1;32m     48\u001b[0m q_0\u001b[38;5;241m.\u001b[39mrequires_grad \u001b[38;5;241m=\u001b[39m \u001b[38;5;28;01mTrue\u001b[39;00m\n\u001b[0;32m---> 49\u001b[0m trajectory_simulated \u001b[38;5;241m=\u001b[39m \u001b[43mmodel\u001b[49m\u001b[43m(\u001b[49m\u001b[43mp_0\u001b[49m\u001b[43m,\u001b[49m\u001b[43m \u001b[49m\u001b[43mq_0\u001b[49m\u001b[43m)\u001b[49m\n\u001b[1;32m     50\u001b[0m error_total \u001b[38;5;241m=\u001b[39m mse(trajectory_simulated[:max_t, :, :], torch\u001b[38;5;241m.\u001b[39mfrom_numpy(batch[:max_t, :, :])\u001b[38;5;241m.\u001b[39mto(device)\u001b[38;5;241m.\u001b[39mto(dtype\u001b[38;5;241m=\u001b[39mtorch\u001b[38;5;241m.\u001b[39mfloat64))\n\u001b[1;32m     51\u001b[0m error_total\u001b[38;5;241m.\u001b[39mbackward()\n",
      "File \u001b[0;32m~/miniconda3/envs/PINNs/lib/python3.8/site-packages/torch/nn/modules/module.py:1518\u001b[0m, in \u001b[0;36mModule._wrapped_call_impl\u001b[0;34m(self, *args, **kwargs)\u001b[0m\n\u001b[1;32m   1516\u001b[0m     \u001b[38;5;28;01mreturn\u001b[39;00m \u001b[38;5;28mself\u001b[39m\u001b[38;5;241m.\u001b[39m_compiled_call_impl(\u001b[38;5;241m*\u001b[39margs, \u001b[38;5;241m*\u001b[39m\u001b[38;5;241m*\u001b[39mkwargs)  \u001b[38;5;66;03m# type: ignore[misc]\u001b[39;00m\n\u001b[1;32m   1517\u001b[0m \u001b[38;5;28;01melse\u001b[39;00m:\n\u001b[0;32m-> 1518\u001b[0m     \u001b[38;5;28;01mreturn\u001b[39;00m \u001b[38;5;28;43mself\u001b[39;49m\u001b[38;5;241;43m.\u001b[39;49m\u001b[43m_call_impl\u001b[49m\u001b[43m(\u001b[49m\u001b[38;5;241;43m*\u001b[39;49m\u001b[43margs\u001b[49m\u001b[43m,\u001b[49m\u001b[43m \u001b[49m\u001b[38;5;241;43m*\u001b[39;49m\u001b[38;5;241;43m*\u001b[39;49m\u001b[43mkwargs\u001b[49m\u001b[43m)\u001b[49m\n",
      "File \u001b[0;32m~/miniconda3/envs/PINNs/lib/python3.8/site-packages/torch/nn/modules/module.py:1527\u001b[0m, in \u001b[0;36mModule._call_impl\u001b[0;34m(self, *args, **kwargs)\u001b[0m\n\u001b[1;32m   1522\u001b[0m \u001b[38;5;66;03m# If we don't have any hooks, we want to skip the rest of the logic in\u001b[39;00m\n\u001b[1;32m   1523\u001b[0m \u001b[38;5;66;03m# this function, and just call forward.\u001b[39;00m\n\u001b[1;32m   1524\u001b[0m \u001b[38;5;28;01mif\u001b[39;00m \u001b[38;5;129;01mnot\u001b[39;00m (\u001b[38;5;28mself\u001b[39m\u001b[38;5;241m.\u001b[39m_backward_hooks \u001b[38;5;129;01mor\u001b[39;00m \u001b[38;5;28mself\u001b[39m\u001b[38;5;241m.\u001b[39m_backward_pre_hooks \u001b[38;5;129;01mor\u001b[39;00m \u001b[38;5;28mself\u001b[39m\u001b[38;5;241m.\u001b[39m_forward_hooks \u001b[38;5;129;01mor\u001b[39;00m \u001b[38;5;28mself\u001b[39m\u001b[38;5;241m.\u001b[39m_forward_pre_hooks\n\u001b[1;32m   1525\u001b[0m         \u001b[38;5;129;01mor\u001b[39;00m _global_backward_pre_hooks \u001b[38;5;129;01mor\u001b[39;00m _global_backward_hooks\n\u001b[1;32m   1526\u001b[0m         \u001b[38;5;129;01mor\u001b[39;00m _global_forward_hooks \u001b[38;5;129;01mor\u001b[39;00m _global_forward_pre_hooks):\n\u001b[0;32m-> 1527\u001b[0m     \u001b[38;5;28;01mreturn\u001b[39;00m \u001b[43mforward_call\u001b[49m\u001b[43m(\u001b[49m\u001b[38;5;241;43m*\u001b[39;49m\u001b[43margs\u001b[49m\u001b[43m,\u001b[49m\u001b[43m \u001b[49m\u001b[38;5;241;43m*\u001b[39;49m\u001b[38;5;241;43m*\u001b[39;49m\u001b[43mkwargs\u001b[49m\u001b[43m)\u001b[49m\n\u001b[1;32m   1529\u001b[0m \u001b[38;5;28;01mtry\u001b[39;00m:\n\u001b[1;32m   1530\u001b[0m     result \u001b[38;5;241m=\u001b[39m \u001b[38;5;28;01mNone\u001b[39;00m\n",
      "Cell \u001b[0;32mIn[14], line 14\u001b[0m, in \u001b[0;36mSymplectic_HNN.forward\u001b[0;34m(self, p_0, q_0)\u001b[0m\n\u001b[1;32m     13\u001b[0m \u001b[38;5;28;01mdef\u001b[39;00m \u001b[38;5;21mforward\u001b[39m(\u001b[38;5;28mself\u001b[39m, p_0, q_0):\n\u001b[0;32m---> 14\u001b[0m     p, q \u001b[38;5;241m=\u001b[39m \u001b[43mhnn_adjoint\u001b[49m\u001b[43m(\u001b[49m\u001b[38;5;28;43mself\u001b[39;49m\u001b[38;5;241;43m.\u001b[39;49m\u001b[43mintegrator\u001b[49m\u001b[43m,\u001b[49m\u001b[43m \u001b[49m\u001b[38;5;28;43mself\u001b[39;49m\u001b[38;5;241;43m.\u001b[39;49m\u001b[43mfunc\u001b[49m\u001b[43m,\u001b[49m\u001b[43m \u001b[49m\u001b[43mp_0\u001b[49m\u001b[43m,\u001b[49m\u001b[43m \u001b[49m\u001b[43mq_0\u001b[49m\u001b[43m,\u001b[49m\u001b[43m \u001b[49m\u001b[38;5;28;43mself\u001b[39;49m\u001b[38;5;241;43m.\u001b[39;49m\u001b[43mT\u001b[49m\u001b[43m,\u001b[49m\u001b[43m \u001b[49m\u001b[38;5;28;43mself\u001b[39;49m\u001b[38;5;241;43m.\u001b[39;49m\u001b[43mdt\u001b[49m\u001b[43m,\u001b[49m\u001b[43m \u001b[49m\u001b[38;5;28;43mself\u001b[39;49m\u001b[38;5;241;43m.\u001b[39;49m\u001b[43mvolatile\u001b[49m\u001b[43m,\u001b[49m\u001b[43m \u001b[49m\u001b[38;5;28;43mself\u001b[39;49m\u001b[38;5;241;43m.\u001b[39;49m\u001b[43mdevice\u001b[49m\u001b[43m,\u001b[49m\u001b[43m \u001b[49m\u001b[38;5;28;43mself\u001b[39;49m\u001b[38;5;241;43m.\u001b[39;49m\u001b[43mdim\u001b[49m\u001b[43m)\u001b[49m\n\u001b[1;32m     15\u001b[0m     \u001b[38;5;66;03m# p, q = Hamiltonian_Adjoint.apply(self.integrator, p_0, q_0, self.func, self.T, self.dt, self.volatile, self.device, self.dim)\u001b[39;00m\n\u001b[1;32m     16\u001b[0m     \u001b[38;5;28;01mreturn\u001b[39;00m torch\u001b[38;5;241m.\u001b[39mcat((p, q), axis \u001b[38;5;241m=\u001b[39m \u001b[38;5;241m2\u001b[39m)\n",
      "Cell \u001b[0;32mIn[13], line 4\u001b[0m, in \u001b[0;36mhnn_adjoint\u001b[0;34m(integrator, func, p0, q0, T, dt, volatile, device, dim)\u001b[0m\n\u001b[1;32m      2\u001b[0m adjoint_params \u001b[38;5;241m=\u001b[39m \u001b[38;5;28mtuple\u001b[39m(\u001b[38;5;28mlist\u001b[39m(func\u001b[38;5;241m.\u001b[39mparameters()))\n\u001b[1;32m      3\u001b[0m adjoint_params \u001b[38;5;241m=\u001b[39m \u001b[38;5;28mtuple\u001b[39m(p \u001b[38;5;28;01mfor\u001b[39;00m p \u001b[38;5;129;01min\u001b[39;00m adjoint_params \u001b[38;5;28;01mif\u001b[39;00m p\u001b[38;5;241m.\u001b[39mrequires_grad)\n\u001b[0;32m----> 4\u001b[0m p, q \u001b[38;5;241m=\u001b[39m \u001b[43mHamiltonian_Adjoint\u001b[49m\u001b[38;5;241;43m.\u001b[39;49m\u001b[43mapply\u001b[49m\u001b[43m(\u001b[49m\u001b[43mintegrator\u001b[49m\u001b[43m,\u001b[49m\u001b[43m \u001b[49m\u001b[43mp0\u001b[49m\u001b[43m,\u001b[49m\u001b[43m \u001b[49m\u001b[43mq0\u001b[49m\u001b[43m,\u001b[49m\u001b[43m \u001b[49m\u001b[43mfunc\u001b[49m\u001b[43m,\u001b[49m\u001b[43m \u001b[49m\u001b[43mT\u001b[49m\u001b[43m,\u001b[49m\u001b[43m \u001b[49m\u001b[43mdt\u001b[49m\u001b[43m,\u001b[49m\u001b[43m \u001b[49m\u001b[43mvolatile\u001b[49m\u001b[43m,\u001b[49m\u001b[43m \u001b[49m\u001b[43mdevice\u001b[49m\u001b[43m,\u001b[49m\u001b[43m \u001b[49m\u001b[43mdim\u001b[49m\u001b[43m,\u001b[49m\u001b[43m \u001b[49m\u001b[38;5;241;43m*\u001b[39;49m\u001b[43madjoint_params\u001b[49m\u001b[43m)\u001b[49m\n\u001b[1;32m      5\u001b[0m \u001b[38;5;28;01mreturn\u001b[39;00m p, q\n",
      "File \u001b[0;32m~/miniconda3/envs/PINNs/lib/python3.8/site-packages/torch/autograd/function.py:539\u001b[0m, in \u001b[0;36mFunction.apply\u001b[0;34m(cls, *args, **kwargs)\u001b[0m\n\u001b[1;32m    536\u001b[0m \u001b[38;5;28;01mif\u001b[39;00m \u001b[38;5;129;01mnot\u001b[39;00m torch\u001b[38;5;241m.\u001b[39m_C\u001b[38;5;241m.\u001b[39m_are_functorch_transforms_active():\n\u001b[1;32m    537\u001b[0m     \u001b[38;5;66;03m# See NOTE: [functorch vjp and autograd interaction]\u001b[39;00m\n\u001b[1;32m    538\u001b[0m     args \u001b[38;5;241m=\u001b[39m _functorch\u001b[38;5;241m.\u001b[39mutils\u001b[38;5;241m.\u001b[39munwrap_dead_wrappers(args)\n\u001b[0;32m--> 539\u001b[0m     \u001b[38;5;28;01mreturn\u001b[39;00m \u001b[38;5;28;43msuper\u001b[39;49m\u001b[43m(\u001b[49m\u001b[43m)\u001b[49m\u001b[38;5;241;43m.\u001b[39;49m\u001b[43mapply\u001b[49m\u001b[43m(\u001b[49m\u001b[38;5;241;43m*\u001b[39;49m\u001b[43margs\u001b[49m\u001b[43m,\u001b[49m\u001b[43m \u001b[49m\u001b[38;5;241;43m*\u001b[39;49m\u001b[38;5;241;43m*\u001b[39;49m\u001b[43mkwargs\u001b[49m\u001b[43m)\u001b[49m  \u001b[38;5;66;03m# type: ignore[misc]\u001b[39;00m\n\u001b[1;32m    541\u001b[0m \u001b[38;5;28;01mif\u001b[39;00m \u001b[38;5;28mcls\u001b[39m\u001b[38;5;241m.\u001b[39msetup_context \u001b[38;5;241m==\u001b[39m _SingleLevelFunction\u001b[38;5;241m.\u001b[39msetup_context:\n\u001b[1;32m    542\u001b[0m     \u001b[38;5;28;01mraise\u001b[39;00m \u001b[38;5;167;01mRuntimeError\u001b[39;00m(\n\u001b[1;32m    543\u001b[0m         \u001b[38;5;124m\"\u001b[39m\u001b[38;5;124mIn order to use an autograd.Function with functorch transforms \u001b[39m\u001b[38;5;124m\"\u001b[39m\n\u001b[1;32m    544\u001b[0m         \u001b[38;5;124m\"\u001b[39m\u001b[38;5;124m(vmap, grad, jvp, jacrev, ...), it must override the setup_context \u001b[39m\u001b[38;5;124m\"\u001b[39m\n\u001b[1;32m    545\u001b[0m         \u001b[38;5;124m\"\u001b[39m\u001b[38;5;124mstaticmethod. For more details, please see \u001b[39m\u001b[38;5;124m\"\u001b[39m\n\u001b[1;32m    546\u001b[0m         \u001b[38;5;124m\"\u001b[39m\u001b[38;5;124mhttps://pytorch.org/docs/master/notes/extending.func.html\u001b[39m\u001b[38;5;124m\"\u001b[39m\n\u001b[1;32m    547\u001b[0m     )\n",
      "Cell \u001b[0;32mIn[12], line 5\u001b[0m, in \u001b[0;36mHamiltonian_Adjoint.forward\u001b[0;34m(ctx, integrator, p_0, q_0, Func, T, dt, volatile, device, dim, *adjoint_params)\u001b[0m\n\u001b[1;32m      2\u001b[0m \u001b[38;5;129m@staticmethod\u001b[39m\n\u001b[1;32m      3\u001b[0m \u001b[38;5;28;01mdef\u001b[39;00m \u001b[38;5;21mforward\u001b[39m(ctx, integrator, p_0, q_0, Func, T, dt, volatile, device, dim, \u001b[38;5;241m*\u001b[39madjoint_params):\n\u001b[1;32m      4\u001b[0m     \u001b[38;5;28;01mwith\u001b[39;00m torch\u001b[38;5;241m.\u001b[39menable_grad():\n\u001b[0;32m----> 5\u001b[0m         trajectory \u001b[38;5;241m=\u001b[39m \u001b[43mnumerically_integrate\u001b[49m\u001b[43m(\u001b[49m\u001b[43mintegrator\u001b[49m\u001b[43m,\u001b[49m\u001b[43m \u001b[49m\u001b[43mp_0\u001b[49m\u001b[43m,\u001b[49m\u001b[43m \u001b[49m\u001b[43mq_0\u001b[49m\u001b[43m,\u001b[49m\u001b[43m \u001b[49m\u001b[43mFunc\u001b[49m\u001b[43m,\u001b[49m\u001b[43m \u001b[49m\u001b[38;5;241;43m5\u001b[39;49m\u001b[43m,\u001b[49m\u001b[43m \u001b[49m\u001b[43mT\u001b[49m\u001b[43m,\u001b[49m\u001b[43m \u001b[49m\u001b[43mdt\u001b[49m\u001b[43m,\u001b[49m\u001b[43m \u001b[49m\u001b[43mvolatile\u001b[49m\u001b[43m,\u001b[49m\u001b[43m \u001b[49m\u001b[43mdevice\u001b[49m\u001b[43m,\u001b[49m\u001b[43m \u001b[49m\u001b[38;5;241;43m1\u001b[39;49m\u001b[43m)\u001b[49m\u001b[38;5;241m.\u001b[39mto(torch\u001b[38;5;241m.\u001b[39mfloat64)\n\u001b[1;32m      6\u001b[0m     ctx\u001b[38;5;241m.\u001b[39msave_for_backward(trajectory\u001b[38;5;241m.\u001b[39mclone(), p_0\u001b[38;5;241m.\u001b[39mclone(), q_0\u001b[38;5;241m.\u001b[39mclone(), \u001b[38;5;241m*\u001b[39madjoint_params)\n\u001b[1;32m      7\u001b[0m     ctx\u001b[38;5;241m.\u001b[39mT \u001b[38;5;241m=\u001b[39m T\n",
      "Cell \u001b[0;32mIn[2], line 69\u001b[0m, in \u001b[0;36mnumerically_integrate\u001b[0;34m(integrator, p_0, q_0, model, method, T, dt, volatile, device, coarsening_factor)\u001b[0m\n\u001b[1;32m     67\u001b[0m     trajectory_simulated \u001b[38;5;241m=\u001b[39m leapfrog(p_0, q_0, model, T, dt, volatile\u001b[38;5;241m=\u001b[39mvolatile, device\u001b[38;5;241m=\u001b[39mdevice)\n\u001b[1;32m     68\u001b[0m \u001b[38;5;28;01melif\u001b[39;00m (integrator \u001b[38;5;241m==\u001b[39m \u001b[38;5;124m'\u001b[39m\u001b[38;5;124meuler\u001b[39m\u001b[38;5;124m'\u001b[39m):\n\u001b[0;32m---> 69\u001b[0m     trajectory_simulated \u001b[38;5;241m=\u001b[39m \u001b[43meuler\u001b[49m\u001b[43m(\u001b[49m\u001b[43mp_0\u001b[49m\u001b[43m,\u001b[49m\u001b[43m \u001b[49m\u001b[43mq_0\u001b[49m\u001b[43m,\u001b[49m\u001b[43m \u001b[49m\u001b[43mmodel\u001b[49m\u001b[43m,\u001b[49m\u001b[43m \u001b[49m\u001b[43mT\u001b[49m\u001b[43m,\u001b[49m\u001b[43m \u001b[49m\u001b[43mdt\u001b[49m\u001b[43m,\u001b[49m\u001b[43m \u001b[49m\u001b[43mvolatile\u001b[49m\u001b[38;5;241;43m=\u001b[39;49m\u001b[43mvolatile\u001b[49m\u001b[43m,\u001b[49m\u001b[43m \u001b[49m\u001b[43mdevice\u001b[49m\u001b[38;5;241;43m=\u001b[39;49m\u001b[43mdevice\u001b[49m\u001b[43m)\u001b[49m\n\u001b[1;32m     70\u001b[0m \u001b[38;5;28;01melif\u001b[39;00m (integrator \u001b[38;5;241m==\u001b[39m \u001b[38;5;124m'\u001b[39m\u001b[38;5;124mpredictor_corrector\u001b[39m\u001b[38;5;124m'\u001b[39m):\n\u001b[1;32m     71\u001b[0m     trajectory_simulated \u001b[38;5;241m=\u001b[39m predictor_corrector(p_0, q_0, model, T, dt, volatile\u001b[38;5;241m=\u001b[39mvolatile, device\u001b[38;5;241m=\u001b[39mdevice)\n",
      "Cell \u001b[0;32mIn[2], line 26\u001b[0m, in \u001b[0;36meuler\u001b[0;34m(p_0, q_0, Func, T, dt, volatile, is_Hamilt, device, use_tqdm)\u001b[0m\n\u001b[1;32m     23\u001b[0m     trajectories[i, :, p_0\u001b[38;5;241m.\u001b[39mshape[\u001b[38;5;241m1\u001b[39m]:] \u001b[38;5;241m=\u001b[39m q\n\u001b[1;32m     25\u001b[0m hamilt \u001b[38;5;241m=\u001b[39m Func(p, q)\n\u001b[0;32m---> 26\u001b[0m dpdt \u001b[38;5;241m=\u001b[39m \u001b[38;5;241m-\u001b[39m\u001b[43mgrad\u001b[49m\u001b[43m(\u001b[49m\u001b[43mhamilt\u001b[49m\u001b[38;5;241;43m.\u001b[39;49m\u001b[43msum\u001b[49m\u001b[43m(\u001b[49m\u001b[43m)\u001b[49m\u001b[43m,\u001b[49m\u001b[43m \u001b[49m\u001b[43mq\u001b[49m\u001b[43m,\u001b[49m\u001b[43m \u001b[49m\u001b[43mcreate_graph\u001b[49m\u001b[38;5;241;43m=\u001b[39;49m\u001b[38;5;129;43;01mnot\u001b[39;49;00m\u001b[43m \u001b[49m\u001b[43mvolatile\u001b[49m\u001b[43m)\u001b[49m[\u001b[38;5;241m0\u001b[39m]\n\u001b[1;32m     27\u001b[0m dqdt \u001b[38;5;241m=\u001b[39m grad(hamilt\u001b[38;5;241m.\u001b[39msum(), p, create_graph\u001b[38;5;241m=\u001b[39m\u001b[38;5;129;01mnot\u001b[39;00m volatile)[\u001b[38;5;241m0\u001b[39m]\n\u001b[1;32m     29\u001b[0m p_next \u001b[38;5;241m=\u001b[39m p \u001b[38;5;241m+\u001b[39m dpdt \u001b[38;5;241m*\u001b[39m dt\n",
      "File \u001b[0;32m~/miniconda3/envs/PINNs/lib/python3.8/site-packages/torch/autograd/__init__.py:394\u001b[0m, in \u001b[0;36mgrad\u001b[0;34m(outputs, inputs, grad_outputs, retain_graph, create_graph, only_inputs, allow_unused, is_grads_batched, materialize_grads)\u001b[0m\n\u001b[1;32m    390\u001b[0m     result \u001b[38;5;241m=\u001b[39m _vmap_internals\u001b[38;5;241m.\u001b[39m_vmap(vjp, \u001b[38;5;241m0\u001b[39m, \u001b[38;5;241m0\u001b[39m, allow_none_pass_through\u001b[38;5;241m=\u001b[39m\u001b[38;5;28;01mTrue\u001b[39;00m)(\n\u001b[1;32m    391\u001b[0m         grad_outputs_\n\u001b[1;32m    392\u001b[0m     )\n\u001b[1;32m    393\u001b[0m \u001b[38;5;28;01melse\u001b[39;00m:\n\u001b[0;32m--> 394\u001b[0m     result \u001b[38;5;241m=\u001b[39m \u001b[43mVariable\u001b[49m\u001b[38;5;241;43m.\u001b[39;49m\u001b[43m_execution_engine\u001b[49m\u001b[38;5;241;43m.\u001b[39;49m\u001b[43mrun_backward\u001b[49m\u001b[43m(\u001b[49m\u001b[43m  \u001b[49m\u001b[38;5;66;43;03m# Calls into the C++ engine to run the backward pass\u001b[39;49;00m\n\u001b[1;32m    395\u001b[0m \u001b[43m        \u001b[49m\u001b[43mt_outputs\u001b[49m\u001b[43m,\u001b[49m\n\u001b[1;32m    396\u001b[0m \u001b[43m        \u001b[49m\u001b[43mgrad_outputs_\u001b[49m\u001b[43m,\u001b[49m\n\u001b[1;32m    397\u001b[0m \u001b[43m        \u001b[49m\u001b[43mretain_graph\u001b[49m\u001b[43m,\u001b[49m\n\u001b[1;32m    398\u001b[0m \u001b[43m        \u001b[49m\u001b[43mcreate_graph\u001b[49m\u001b[43m,\u001b[49m\n\u001b[1;32m    399\u001b[0m \u001b[43m        \u001b[49m\u001b[43mt_inputs\u001b[49m\u001b[43m,\u001b[49m\n\u001b[1;32m    400\u001b[0m \u001b[43m        \u001b[49m\u001b[43mallow_unused\u001b[49m\u001b[43m,\u001b[49m\n\u001b[1;32m    401\u001b[0m \u001b[43m        \u001b[49m\u001b[43maccumulate_grad\u001b[49m\u001b[38;5;241;43m=\u001b[39;49m\u001b[38;5;28;43;01mFalse\u001b[39;49;00m\u001b[43m,\u001b[49m\n\u001b[1;32m    402\u001b[0m \u001b[43m    \u001b[49m\u001b[43m)\u001b[49m  \u001b[38;5;66;03m# Calls into the C++ engine to run the backward pass\u001b[39;00m\n\u001b[1;32m    403\u001b[0m \u001b[38;5;28;01mif\u001b[39;00m materialize_grads:\n\u001b[1;32m    404\u001b[0m     result \u001b[38;5;241m=\u001b[39m \u001b[38;5;28mtuple\u001b[39m(\n\u001b[1;32m    405\u001b[0m         output\n\u001b[1;32m    406\u001b[0m         \u001b[38;5;28;01mif\u001b[39;00m output \u001b[38;5;129;01mis\u001b[39;00m \u001b[38;5;129;01mnot\u001b[39;00m \u001b[38;5;28;01mNone\u001b[39;00m\n\u001b[1;32m    407\u001b[0m         \u001b[38;5;28;01melse\u001b[39;00m torch\u001b[38;5;241m.\u001b[39mzeros_like(\u001b[38;5;28minput\u001b[39m, requires_grad\u001b[38;5;241m=\u001b[39m\u001b[38;5;28;01mTrue\u001b[39;00m)\n\u001b[1;32m    408\u001b[0m         \u001b[38;5;28;01mfor\u001b[39;00m (output, \u001b[38;5;28minput\u001b[39m) \u001b[38;5;129;01min\u001b[39;00m \u001b[38;5;28mzip\u001b[39m(result, t_inputs)\n\u001b[1;32m    409\u001b[0m     )\n",
      "\u001b[0;31mKeyboardInterrupt\u001b[0m: "
     ]
    }
   ],
   "source": [
    "model_euler, loss_euler, test_data, device = train(\"euler\")"
   ]
  },
  {
   "cell_type": "code",
   "execution_count": 548,
   "id": "f726eace-b92b-4edd-8d68-372cc06f76f9",
   "metadata": {
    "tags": []
   },
   "outputs": [
    {
     "data": {
      "text/plain": [
       "[<matplotlib.lines.Line2D at 0x7f8408844a90>]"
      ]
     },
     "execution_count": 548,
     "metadata": {},
     "output_type": "execute_result"
    },
    {
     "data": {
      "image/png": "[encoded data removed]",
      "text/plain": [
       "<Figure size 640x480 with 1 Axes>"
      ]
     },
     "metadata": {},
     "output_type": "display_data"
    }
   ],
   "source": [
    "import matplotlib.pyplot as plt\n",
    "plt.plot(range(len(loss_euler)), loss_euler, label = \"euler\")"
   ]
  },
  {
   "cell_type": "code",
   "execution_count": null,
   "id": "8f2daec5-85aa-497b-8728-3ca2fdfb9870",
   "metadata": {},
   "outputs": [],
   "source": []
  }
 ],
 "metadata": {
  "kernelspec": {
   "display_name": "Python [conda env:PINNs]",
   "language": "python",
   "name": "conda-env-PINNs-py"
  },
  "language_info": {
   "codemirror_mode": {
    "name": "ipython",
    "version": 3
   },
   "file_extension": ".py",
   "mimetype": "text/x-python",
   "name": "python",
   "nbconvert_exporter": "python",
   "pygments_lexer": "ipython3",
   "version": "3.8.17"
  }
 },
 "nbformat": 4,
 "nbformat_minor": 5
}
