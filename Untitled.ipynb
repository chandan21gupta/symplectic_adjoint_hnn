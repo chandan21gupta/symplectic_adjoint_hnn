{
 "cells": [
  {
   "cell_type": "code",
   "execution_count": 1,
   "id": "0743ad1e-fbf0-41cc-b048-108acc17f030",
   "metadata": {
    "tags": []
   },
   "outputs": [
    {
     "name": "stdout",
     "output_type": "stream",
     "text": [
      "Approximate value of the definite integral: 0.34375\n"
     ]
    }
   ],
   "source": [
    "def trapezoidal_rule(func, a, b, n):\n",
    "    \"\"\"\n",
    "    Approximates the definite integral of a function using the Trapezoidal Rule.\n",
    "\n",
    "    Parameters:\n",
    "        func (function): The function to integrate.\n",
    "        a (float): The lower limit of integration.\n",
    "        b (float): The upper limit of integration.\n",
    "        n (int): The number of subintervals to use.\n",
    "\n",
    "    Returns:\n",
    "        float: The approximate value of the definite integral.\n",
    "    \"\"\"\n",
    "    h = (b - a) / n  # Width of each subinterval\n",
    "    integral = 0.5 * (func(a) + func(b))  # Initialize integral with endpoints\n",
    "\n",
    "    for i in range(1, n):\n",
    "        integral += func(a + i * h)  # Sum of function values at interior points\n",
    "\n",
    "    integral *= h  # Multiply by width of subintervals\n",
    "    return integral\n",
    "\n",
    "# Example function: f(x) = x^2\n",
    "def f(x):\n",
    "    return x**2\n",
    "\n",
    "# Define integration limits and number of subintervals\n",
    "a = 0\n",
    "b = 1\n",
    "n = 4\n",
    "\n",
    "# Approximate the definite integral using the Trapezoidal Rule\n",
    "approx_integral = trapezoidal_rule(f, a, b, n)\n",
    "print(\"Approximate value of the definite integral:\", approx_integral)"
   ]
  },
  {
   "cell_type": "code",
   "execution_count": null,
   "id": "8570fefe-d46c-4e9f-9691-21a39203796b",
   "metadata": {},
   "outputs": [],
   "source": []
  }
 ],
 "metadata": {
  "kernelspec": {
   "display_name": "Python (PINNs)",
   "language": "python",
   "name": "pinns"
  },
  "language_info": {
   "codemirror_mode": {
    "name": "ipython",
    "version": 3
   },
   "file_extension": ".py",
   "mimetype": "text/x-python",
   "name": "python",
   "nbconvert_exporter": "python",
   "pygments_lexer": "ipython3",
   "version": "3.8.17"
  }
 },
 "nbformat": 4,
 "nbformat_minor": 5
}
