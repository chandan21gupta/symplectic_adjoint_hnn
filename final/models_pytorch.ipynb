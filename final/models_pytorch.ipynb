{
 "cells": [
  {
   "cell_type": "code",
   "execution_count": 1,
   "id": "cb9cbff1-3c72-4ff0-a337-74867b04a630",
   "metadata": {
    "tags": []
   },
   "outputs": [],
   "source": [
    "import numpy as np\n",
    "import matplotlib.pyplot as plt\n",
    "import math\n",
    "import torch\n",
    "from torch.utils.data import Dataset\n",
    "from torch.utils.data import DataLoader\n",
    "import torch.nn as nn\n",
    "import torch.optim as optim\n",
    "from torch.autograd import grad\n",
    "from tqdm import tqdm\n",
    "from torch.optim.lr_scheduler import StepLR\n",
    "from torch.autograd import gradcheck\n",
    "torch.manual_seed(42)\n",
    "import random\n",
    "from solvers_pytorch import *\n",
    "random.seed(0)\n",
    "np.random.seed(0)"
   ]
  },
  {
   "cell_type": "code",
   "execution_count": 2,
   "id": "1aa9e270-9523-430e-b5b7-0f0503a0bb6c",
   "metadata": {
    "tags": []
   },
   "outputs": [],
   "source": [
    "device = torch.device('cuda' if torch.cuda.is_available() else 'cpu')"
   ]
  },
  {
   "cell_type": "code",
   "execution_count": 11,
   "id": "4fa72680-8b96-46e6-b93a-0526139a28d5",
   "metadata": {
    "tags": []
   },
   "outputs": [],
   "source": [
    "class HamiltonianDataset(Dataset):\n",
    "    def __init__(self, file_path):\n",
    "        # Load the dataset\n",
    "        dataset = torch.load(file_path)[:, :, :]\n",
    "        # Convert the dataset to PyTorch tensors\n",
    "        # self.p_values = torch.tensor(dataset[:, :, 0], dtype=torch.float32)\n",
    "        # self.q_values = torch.tensor(dataset[:, :, 1], dtype=torch.float32)\n",
    "        # self.h_values = torch.tensor(dataset[:, :, 2], dtype=torch.float32)\n",
    "        self.p_values = dataset[:, :, 0]\n",
    "        self.q_values = dataset[:, :, 1]\n",
    "        self.h_values = dataset[:, :, 2]\n",
    "\n",
    "        # Ensure consistent length for all tensors\n",
    "        assert len(self.p_values) == len(self.q_values) == len(self.h_values)\n",
    "        self.length = len(self.p_values)\n",
    "\n",
    "    def __len__(self):\n",
    "        return self.length\n",
    "\n",
    "    def __getitem__(self, idx):\n",
    "        return self.p_values[idx], self.q_values[idx], self.h_values[idx]"
   ]
  },
  {
   "cell_type": "code",
   "execution_count": 19,
   "id": "1e0859f5-6fdb-4fc8-89b2-1c3b13d59e24",
   "metadata": {
    "tags": []
   },
   "outputs": [
    {
     "data": {
      "image/png": "[encoded data removed]",
      "text/plain": [
       "<Figure size 640x480 with 1 Axes>"
      ]
     },
     "metadata": {},
     "output_type": "display_data"
    }
   ],
   "source": [
    "train_mass_spring = HamiltonianDataset(\"./data/tao/version_1/train.pt\")\n",
    "data_loader = DataLoader(train_mass_spring, batch_size=32, shuffle=False)\n",
    "for batch in data_loader:\n",
    "    p_batch, q_batch, _ = batch\n",
    "    plt.plot(p_batch[0, :], q_batch[0, :])\n",
    "    break"
   ]
  },
  {
   "cell_type": "code",
   "execution_count": 5,
   "id": "2b9821c3-c60f-4e47-a378-de6f7fc97331",
   "metadata": {
    "tags": []
   },
   "outputs": [],
   "source": [
    "class MLP2H_Separable_Hamilt(nn.Module):\n",
    "    def __init__(self, n_hidden, input_size):\n",
    "        super(MLP2H_Separable_Hamilt, self).__init__()\n",
    "        self.linear_K1 = nn.Linear(input_size, n_hidden)\n",
    "        self.linear_K1B = nn.Linear(n_hidden, n_hidden)\n",
    "        self.linear_K2 = nn.Linear(n_hidden, 1)\n",
    "        self.linear_P1 = nn.Linear(input_size, n_hidden)\n",
    "        self.linear_P1B = nn.Linear(n_hidden, n_hidden)\n",
    "        self.linear_P2 = nn.Linear(n_hidden, 1)\n",
    "\n",
    "    def kinetic_energy(self, p):\n",
    "        h_pre = self.linear_K1(p)\n",
    "        h = h_pre.tanh_()\n",
    "        h_pre_B = self.linear_K1B(h)\n",
    "        h_B = h_pre_B.tanh_()\n",
    "        return self.linear_K2(h_B)\n",
    "\n",
    "    def potential_energy(self, q):\n",
    "        h_pre = self.linear_P1(q)\n",
    "        h = h_pre.tanh_()\n",
    "        h_pre_B = self.linear_P1B(h)\n",
    "        h_B = h_pre_B.tanh_()\n",
    "        return self.linear_P2(h_B)\n",
    "\n",
    "    def forward(self, p, q):\n",
    "        return self.kinetic_energy(p) + self.potential_energy(q)"
   ]
  },
  {
   "cell_type": "code",
   "execution_count": 8,
   "id": "4b1ce559-b583-4e76-be56-fd3e4d993e1c",
   "metadata": {
    "tags": []
   },
   "outputs": [],
   "source": [
    "class BackProp_HNN(nn.Module):\n",
    "    def __init__(self, f, T, dt, dim, integrator, iter):\n",
    "        super(BackProp_HNN, self).__init__()\n",
    "        self.f = f\n",
    "        self.dt = dt\n",
    "        self.dim = dim\n",
    "        self.integrator = integrator\n",
    "        self.T = T\n",
    "        self.num_steps = int(1/dt)\n",
    "        self.iter = iter\n",
    "\n",
    "    def forward(self, p0, q0):\n",
    "        trajectories = torch.zeros((p0.shape[0], self.T, self.dim * 2)).to(device)\n",
    "        trajectories[:, 0, 0] = p0\n",
    "        trajectories[:, 0, 1] = q0\n",
    "        p = p0\n",
    "        q = q0\n",
    "        for timestep in range(1, T):\n",
    "            for _ in range(self.num_steps):\n",
    "                p, q = self.integrator(self.dynamics_fn, p, q, dt)\n",
    "            trajectories[:, timestep, 0] = p\n",
    "            trajectories[:, timestep, 1] = q\n",
    "        return trajectories\n",
    "        # for timestep in range(1, T):\n",
    "        #     for _ in range(self.num_steps):\n",
    "        #         if self.integrator == \"euler\":\n",
    "        #             x = self.euler_step(torch.stack([p, q], dim = 1))\n",
    "        #         elif self.integrator == \"rk2\":\n",
    "        #             x = self.rk2_step(torch.stack([p, q], dim = 1))\n",
    "        #         elif self.integrator == \"sv\":\n",
    "        #             x = self.sv_step(torch.stack([p, q], dim = 1), x_init = None, iterations = iter)\n",
    "        #         elif self.integrator == \"pc\":\n",
    "        #             x = self.rk2_step(torch.stack([p, q], dim = 1))\n",
    "        #             x = self.sv_step(torch.stack([p, q], dim = 1), x_init = x, iterations = iter)\n",
    "        #             # x = self.pc_step(torch.stack([p, q], dim = 1), iterations = iter)\n",
    "        #         # print(x.shape)\n",
    "        #         p = x[:, 0]\n",
    "        #         q = x[:, 1]\n",
    "        #     trajectories[:, timestep, 0] = p\n",
    "        #     trajectories[:, timestep, 1] = q\n",
    "        # return trajectories\n",
    "    \n",
    "    def dynamics_fn(self, p, q):\n",
    "        # p = x[:, 0]\n",
    "        # q = x[:, 1]\n",
    "        p.requires_grad_(True)\n",
    "        q.requires_grad_(True)\n",
    "        # h = self.f(p, q)\n",
    "        h = self.f(p.unsqueeze(-1), q.unsqueeze(-1))\n",
    "        # print(\"dynamics_fn\", h.shape)\n",
    "        grad_p, = grad(h.sum(), p, create_graph=True, allow_unused=True)\n",
    "        grad_q, = grad(h.sum(), q, create_graph=True, allow_unused=True)\n",
    "        return -grad_q, grad_p\n",
    "        # return torch.stack([-grad_q, grad_p], dim = 1)"
   ]
  },
  {
   "cell_type": "code",
   "execution_count": 9,
   "id": "3342f0de-addc-45ee-8c09-6b52ca9b78f3",
   "metadata": {
    "tags": []
   },
   "outputs": [
    {
     "name": "stderr",
     "output_type": "stream",
     "text": [
      "  1%|▍                                          | 1/100 [00:02<04:50,  2.93s/it]"
     ]
    },
    {
     "name": "stdout",
     "output_type": "stream",
     "text": [
      "avg train loss 0.2076470833271742\n",
      "avg val loss 0.18163641755070006\n",
      "avg train loss 0.18836117582395673\n",
      "avg val loss 0.18067547572510584\n"
     ]
    },
    {
     "name": "stderr",
     "output_type": "stream",
     "text": [
      "  3%|█▎                                         | 3/100 [00:08<04:28,  2.77s/it]"
     ]
    },
    {
     "name": "stdout",
     "output_type": "stream",
     "text": [
      "avg train loss 0.17903759004548192\n",
      "avg val loss 0.18174967063324793\n",
      "avg train loss 0.18021959764882922\n"
     ]
    },
    {
     "name": "stderr",
     "output_type": "stream",
     "text": [
      "  4%|█▋                                         | 4/100 [00:11<04:29,  2.81s/it]"
     ]
    },
    {
     "name": "stdout",
     "output_type": "stream",
     "text": [
      "avg val loss 0.17988455508436477\n"
     ]
    },
    {
     "name": "stderr",
     "output_type": "stream",
     "text": [
      "  5%|██▏                                        | 5/100 [00:13<04:21,  2.76s/it]"
     ]
    },
    {
     "name": "stdout",
     "output_type": "stream",
     "text": [
      "avg train loss 0.1826083092018962\n",
      "avg val loss 0.1809369879109519\n",
      "avg train loss 0.1821038336493075\n"
     ]
    },
    {
     "name": "stderr",
     "output_type": "stream",
     "text": [
      "  6%|██▌                                        | 6/100 [00:16<04:27,  2.84s/it]"
     ]
    },
    {
     "name": "stdout",
     "output_type": "stream",
     "text": [
      "avg val loss 0.18097838652985437\n",
      "avg train loss 0.18367405235767365\n"
     ]
    },
    {
     "name": "stderr",
     "output_type": "stream",
     "text": [
      "  7%|███                                        | 7/100 [00:19<04:30,  2.91s/it]"
     ]
    },
    {
     "name": "stdout",
     "output_type": "stream",
     "text": [
      "avg val loss 0.18023851833173207\n"
     ]
    },
    {
     "name": "stderr",
     "output_type": "stream",
     "text": [
      "  8%|███▍                                       | 8/100 [00:22<04:27,  2.91s/it]"
     ]
    },
    {
     "name": "stdout",
     "output_type": "stream",
     "text": [
      "avg train loss 0.17894647526554763\n",
      "avg val loss 0.1770494356751442\n"
     ]
    },
    {
     "name": "stderr",
     "output_type": "stream",
     "text": [
      "  9%|███▊                                       | 9/100 [00:25<04:20,  2.87s/it]"
     ]
    },
    {
     "name": "stdout",
     "output_type": "stream",
     "text": [
      "avg train loss 0.1805264400318265\n",
      "avg val loss 0.17784963441746576\n"
     ]
    },
    {
     "name": "stderr",
     "output_type": "stream",
     "text": [
      " 10%|████▏                                     | 10/100 [00:28<04:15,  2.84s/it]"
     ]
    },
    {
     "name": "stdout",
     "output_type": "stream",
     "text": [
      "avg train loss 0.18163866270333529\n",
      "avg val loss 0.17777723925454275\n"
     ]
    },
    {
     "name": "stderr",
     "output_type": "stream",
     "text": [
      " 11%|████▌                                     | 11/100 [00:31<04:14,  2.86s/it]"
     ]
    },
    {
     "name": "stdout",
     "output_type": "stream",
     "text": [
      "avg train loss 0.18226672965101898\n",
      "avg val loss 0.17721156563077653\n",
      "avg train loss 0.18159276247024536\n"
     ]
    },
    {
     "name": "stderr",
     "output_type": "stream",
     "text": [
      " 12%|█████                                     | 12/100 [00:34<04:09,  2.84s/it]"
     ]
    },
    {
     "name": "stdout",
     "output_type": "stream",
     "text": [
      "avg val loss 0.1795752676469939\n"
     ]
    },
    {
     "name": "stderr",
     "output_type": "stream",
     "text": [
      " 13%|█████▍                                    | 13/100 [00:36<04:03,  2.80s/it]"
     ]
    },
    {
     "name": "stdout",
     "output_type": "stream",
     "text": [
      "avg train loss 0.1787042219657451\n",
      "avg val loss 0.17888410282986505\n"
     ]
    },
    {
     "name": "stderr",
     "output_type": "stream",
     "text": [
      " 14%|█████▉                                    | 14/100 [00:39<03:58,  2.77s/it]"
     ]
    },
    {
     "name": "stdout",
     "output_type": "stream",
     "text": [
      "avg train loss 0.1831556751858443\n",
      "avg val loss 0.18182374217680522\n"
     ]
    },
    {
     "name": "stderr",
     "output_type": "stream",
     "text": [
      " 15%|██████▎                                   | 15/100 [00:42<03:54,  2.76s/it]"
     ]
    },
    {
     "name": "stdout",
     "output_type": "stream",
     "text": [
      "avg train loss 0.17946196906268597\n",
      "avg val loss 0.17756831965276174\n"
     ]
    },
    {
     "name": "stderr",
     "output_type": "stream",
     "text": [
      " 16%|██████▋                                   | 16/100 [00:45<03:50,  2.75s/it]"
     ]
    },
    {
     "name": "stdout",
     "output_type": "stream",
     "text": [
      "avg train loss 0.18088453798554838\n",
      "avg val loss 0.17933448936258042\n",
      "avg train loss 0.17846978874877095\n"
     ]
    },
    {
     "name": "stderr",
     "output_type": "stream",
     "text": [
      " 17%|███████▏                                  | 17/100 [00:48<03:59,  2.88s/it]"
     ]
    },
    {
     "name": "stdout",
     "output_type": "stream",
     "text": [
      "avg val loss 0.17735669868332998\n"
     ]
    },
    {
     "name": "stderr",
     "output_type": "stream",
     "text": [
      " 18%|███████▌                                  | 18/100 [00:51<03:59,  2.92s/it]"
     ]
    },
    {
     "name": "stdout",
     "output_type": "stream",
     "text": [
      "avg train loss 0.18060487555339932\n",
      "avg val loss 0.18770321777888707\n",
      "avg train loss 0.18177791382186115\n"
     ]
    },
    {
     "name": "stderr",
     "output_type": "stream",
     "text": [
      " 19%|███████▉                                  | 19/100 [00:54<03:55,  2.91s/it]"
     ]
    },
    {
     "name": "stdout",
     "output_type": "stream",
     "text": [
      "avg val loss 0.17715480817215784\n"
     ]
    },
    {
     "name": "stderr",
     "output_type": "stream",
     "text": [
      " 20%|████████▍                                 | 20/100 [00:57<04:07,  3.09s/it]"
     ]
    },
    {
     "name": "stdout",
     "output_type": "stream",
     "text": [
      "avg train loss 0.1834908714517951\n",
      "avg val loss 0.17961944426809037\n",
      "avg train loss 0.18082792940549552\n"
     ]
    },
    {
     "name": "stderr",
     "output_type": "stream",
     "text": [
      " 21%|████████▊                                 | 21/100 [01:00<04:02,  3.06s/it]"
     ]
    },
    {
     "name": "stdout",
     "output_type": "stream",
     "text": [
      "avg val loss 0.18009835800954274\n"
     ]
    },
    {
     "name": "stderr",
     "output_type": "stream",
     "text": [
      " 21%|████████▊                                 | 21/100 [01:02<03:54,  2.97s/it]\n"
     ]
    },
    {
     "ename": "KeyboardInterrupt",
     "evalue": "",
     "output_type": "error",
     "traceback": [
      "\u001b[0;31m---------------------------------------------------------------------------\u001b[0m",
      "\u001b[0;31mKeyboardInterrupt\u001b[0m                         Traceback (most recent call last)",
      "Cell \u001b[0;32mIn[9], line 41\u001b[0m\n\u001b[1;32m     39\u001b[0m trajectory \u001b[38;5;241m=\u001b[39m trajectory\u001b[38;5;241m.\u001b[39mview(trajectory\u001b[38;5;241m.\u001b[39msize(\u001b[38;5;241m0\u001b[39m), \u001b[38;5;241m-\u001b[39m\u001b[38;5;241m1\u001b[39m)\u001b[38;5;241m.\u001b[39mto(device)\n\u001b[1;32m     40\u001b[0m loss \u001b[38;5;241m=\u001b[39m criterion(trajectory, simulated_trajectory)\n\u001b[0;32m---> 41\u001b[0m \u001b[43mloss\u001b[49m\u001b[38;5;241;43m.\u001b[39;49m\u001b[43mbackward\u001b[49m\u001b[43m(\u001b[49m\u001b[43m)\u001b[49m\n\u001b[1;32m     42\u001b[0m optimizer\u001b[38;5;241m.\u001b[39mstep()\n\u001b[1;32m     43\u001b[0m \u001b[38;5;66;03m# scheduler.step()\u001b[39;00m\n",
      "File \u001b[0;32m~/miniconda3/envs/PINNs/lib/python3.8/site-packages/torch/_tensor.py:492\u001b[0m, in \u001b[0;36mTensor.backward\u001b[0;34m(self, gradient, retain_graph, create_graph, inputs)\u001b[0m\n\u001b[1;32m    482\u001b[0m \u001b[38;5;28;01mif\u001b[39;00m has_torch_function_unary(\u001b[38;5;28mself\u001b[39m):\n\u001b[1;32m    483\u001b[0m     \u001b[38;5;28;01mreturn\u001b[39;00m handle_torch_function(\n\u001b[1;32m    484\u001b[0m         Tensor\u001b[38;5;241m.\u001b[39mbackward,\n\u001b[1;32m    485\u001b[0m         (\u001b[38;5;28mself\u001b[39m,),\n\u001b[0;32m   (...)\u001b[0m\n\u001b[1;32m    490\u001b[0m         inputs\u001b[38;5;241m=\u001b[39minputs,\n\u001b[1;32m    491\u001b[0m     )\n\u001b[0;32m--> 492\u001b[0m \u001b[43mtorch\u001b[49m\u001b[38;5;241;43m.\u001b[39;49m\u001b[43mautograd\u001b[49m\u001b[38;5;241;43m.\u001b[39;49m\u001b[43mbackward\u001b[49m\u001b[43m(\u001b[49m\n\u001b[1;32m    493\u001b[0m \u001b[43m    \u001b[49m\u001b[38;5;28;43mself\u001b[39;49m\u001b[43m,\u001b[49m\u001b[43m \u001b[49m\u001b[43mgradient\u001b[49m\u001b[43m,\u001b[49m\u001b[43m \u001b[49m\u001b[43mretain_graph\u001b[49m\u001b[43m,\u001b[49m\u001b[43m \u001b[49m\u001b[43mcreate_graph\u001b[49m\u001b[43m,\u001b[49m\u001b[43m \u001b[49m\u001b[43minputs\u001b[49m\u001b[38;5;241;43m=\u001b[39;49m\u001b[43minputs\u001b[49m\n\u001b[1;32m    494\u001b[0m \u001b[43m\u001b[49m\u001b[43m)\u001b[49m\n",
      "File \u001b[0;32m~/miniconda3/envs/PINNs/lib/python3.8/site-packages/torch/autograd/__init__.py:251\u001b[0m, in \u001b[0;36mbackward\u001b[0;34m(tensors, grad_tensors, retain_graph, create_graph, grad_variables, inputs)\u001b[0m\n\u001b[1;32m    246\u001b[0m     retain_graph \u001b[38;5;241m=\u001b[39m create_graph\n\u001b[1;32m    248\u001b[0m \u001b[38;5;66;03m# The reason we repeat the same comment below is that\u001b[39;00m\n\u001b[1;32m    249\u001b[0m \u001b[38;5;66;03m# some Python versions print out the first line of a multi-line function\u001b[39;00m\n\u001b[1;32m    250\u001b[0m \u001b[38;5;66;03m# calls in the traceback and some print out the last line\u001b[39;00m\n\u001b[0;32m--> 251\u001b[0m \u001b[43mVariable\u001b[49m\u001b[38;5;241;43m.\u001b[39;49m\u001b[43m_execution_engine\u001b[49m\u001b[38;5;241;43m.\u001b[39;49m\u001b[43mrun_backward\u001b[49m\u001b[43m(\u001b[49m\u001b[43m  \u001b[49m\u001b[38;5;66;43;03m# Calls into the C++ engine to run the backward pass\u001b[39;49;00m\n\u001b[1;32m    252\u001b[0m \u001b[43m    \u001b[49m\u001b[43mtensors\u001b[49m\u001b[43m,\u001b[49m\n\u001b[1;32m    253\u001b[0m \u001b[43m    \u001b[49m\u001b[43mgrad_tensors_\u001b[49m\u001b[43m,\u001b[49m\n\u001b[1;32m    254\u001b[0m \u001b[43m    \u001b[49m\u001b[43mretain_graph\u001b[49m\u001b[43m,\u001b[49m\n\u001b[1;32m    255\u001b[0m \u001b[43m    \u001b[49m\u001b[43mcreate_graph\u001b[49m\u001b[43m,\u001b[49m\n\u001b[1;32m    256\u001b[0m \u001b[43m    \u001b[49m\u001b[43minputs\u001b[49m\u001b[43m,\u001b[49m\n\u001b[1;32m    257\u001b[0m \u001b[43m    \u001b[49m\u001b[43mallow_unreachable\u001b[49m\u001b[38;5;241;43m=\u001b[39;49m\u001b[38;5;28;43;01mTrue\u001b[39;49;00m\u001b[43m,\u001b[49m\n\u001b[1;32m    258\u001b[0m \u001b[43m    \u001b[49m\u001b[43maccumulate_grad\u001b[49m\u001b[38;5;241;43m=\u001b[39;49m\u001b[38;5;28;43;01mTrue\u001b[39;49;00m\u001b[43m,\u001b[49m\n\u001b[1;32m    259\u001b[0m \u001b[43m\u001b[49m\u001b[43m)\u001b[49m\n",
      "\u001b[0;31mKeyboardInterrupt\u001b[0m: "
     ]
    }
   ],
   "source": [
    "for integrator in [\"euler\"]:\n",
    "    f1 = MLP2H_Separable_Hamilt(n_hidden=512, input_size=1).to(device).double()\n",
    "    T = 2\n",
    "    dt = 0.1\n",
    "    dim = 1\n",
    "    num_epochs = 100\n",
    "    iter = 1\n",
    "    device = torch.device('cuda' if torch.cuda.is_available() else 'cpu')\n",
    "    if integrator == \"euler\":\n",
    "        integrator_ = EulerSolver()\n",
    "    # Create the model, criterion, optimizer, and data loaders\n",
    "    model = BackProp_HNN(f1, T, dt, dim, integrator_, iter).to(device).double()\n",
    "    criterion = nn.MSELoss()\n",
    "    optimizer = optim.Adam(model.parameters(), lr=1e-3)\n",
    "    # scheduler = StepLR(optimizer, step_size=10, gamma=0.8)\n",
    "    train_mass_spring = HamiltonianDataset(\"./data/mass_spring/version_3/train.pt\")\n",
    "    data_loader = DataLoader(train_mass_spring, batch_size=32, shuffle=True)\n",
    "    val_mass_spring = HamiltonianDataset(\"./data/mass_spring/version_3/val.pt\")\n",
    "    val_loader = DataLoader(val_mass_spring, batch_size=32, shuffle=False)\n",
    "\n",
    "    train_loss = []\n",
    "    val_loss = []\n",
    "\n",
    "    best_val_loss = float('inf')\n",
    "    best_model_path = integrator+str(dt)+'_best_model.pt'\n",
    "\n",
    "    with open(integrator+\"_loss_\"+str(dt)+\".txt\", \"w\") as loss_file:\n",
    "        for epoch in tqdm(range(num_epochs)):\n",
    "            model.train()\n",
    "            loss_epoch = []\n",
    "            for batch in data_loader:\n",
    "                optimizer.zero_grad()\n",
    "                p_batch, q_batch, _ = batch\n",
    "                p0_batch = p_batch[:, 0].to(device).double()\n",
    "                q0_batch = q_batch[:, 1].to(device).double()\n",
    "                simulated_trajectory = model(p0_batch, q0_batch)\n",
    "                simulated_trajectory = simulated_trajectory.view(simulated_trajectory.size(0), -1)\n",
    "                trajectory = torch.stack([p_batch, q_batch], axis=2).to(device)\n",
    "                trajectory = trajectory.view(trajectory.size(0), -1).to(device)\n",
    "                loss = criterion(trajectory, simulated_trajectory)\n",
    "                loss.backward()\n",
    "                optimizer.step()\n",
    "                # scheduler.step()\n",
    "                loss_epoch.append(loss.item())\n",
    "            avg_train_loss = sum(loss_epoch)/len(loss_epoch)\n",
    "            print(\"avg train loss\", avg_train_loss)\n",
    "            train_loss.append(avg_train_loss)\n",
    "\n",
    "            model.eval()  # Set model to evaluation mode\n",
    "            val_loss_epoch = []\n",
    "            for batch in val_loader:\n",
    "                optimizer.zero_grad()\n",
    "                p_batch, q_batch, _ = batch\n",
    "                p0_batch = p_batch[:, 0].to(device).double()\n",
    "                q0_batch = q_batch[:, 1].to(device).double()\n",
    "                simulated_trajectory = model(p0_batch, q0_batch)\n",
    "                simulated_trajectory = simulated_trajectory.view(simulated_trajectory.size(0), -1)\n",
    "                trajectory = torch.stack([p_batch, q_batch], axis=2).to(device)\n",
    "                trajectory = trajectory.view(trajectory.size(0), -1).to(device)\n",
    "                loss = criterion(trajectory, simulated_trajectory)\n",
    "                val_loss_epoch.append(loss.item())\n",
    "            avg_val_loss = sum(val_loss_epoch)/len(val_loss_epoch)\n",
    "            print(\"avg val loss\", avg_val_loss)\n",
    "            val_loss.append(avg_val_loss)\n",
    "            if avg_val_loss < best_val_loss:\n",
    "                best_val_loss = avg_val_loss\n",
    "                torch.save(model.state_dict(), best_model_path)\n",
    "            loss_file.write(f\"{avg_train_loss}, {avg_val_loss}\\n\")"
   ]
  },
  {
   "cell_type": "code",
   "execution_count": null,
   "id": "e137929a-973a-4c74-b941-341af354fd47",
   "metadata": {},
   "outputs": [],
   "source": []
  }
 ],
 "metadata": {
  "kernelspec": {
   "display_name": "Python (PINNs)",
   "language": "python",
   "name": "pinns"
  },
  "language_info": {
   "codemirror_mode": {
    "name": "ipython",
    "version": 3
   },
   "file_extension": ".py",
   "mimetype": "text/x-python",
   "name": "python",
   "nbconvert_exporter": "python",
   "pygments_lexer": "ipython3",
   "version": "3.8.17"
  }
 },
 "nbformat": 4,
 "nbformat_minor": 5
}
