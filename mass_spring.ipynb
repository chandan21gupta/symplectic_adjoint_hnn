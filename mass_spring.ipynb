{
 "cells": [
  {
   "cell_type": "code",
   "execution_count": 1,
   "id": "d050ef9a-992f-4d29-87d4-f1933879fbe2",
   "metadata": {
    "tags": []
   },
   "outputs": [],
   "source": [
    "import torch\n",
    "import numpy as np\n",
    "import torch.nn as nn\n",
    "from mass_spring import get_dataset\n",
    "from tqdm import tqdm\n",
    "from torch.autograd import grad\n",
    "torch.manual_seed(42)\n",
    "np.random.seed(42)\n",
    "\n",
    "from torch.optim.lr_scheduler import ReduceLROnPlateau"
   ]
  },
  {
   "cell_type": "code",
   "execution_count": 2,
   "id": "9dc399e2-9d41-487d-a8e7-b8523de6f480",
   "metadata": {
    "tags": []
   },
   "outputs": [],
   "source": [
    "class MLP1H_Separable_Hamilt(nn.Module):\n",
    "    def __init__(self, n_hidden, input_size):\n",
    "        super(MLP1H_Separable_Hamilt, self).__init__()\n",
    "        self.linear_K1 = nn.Linear(input_size, n_hidden)\n",
    "        self.linear_K2 = nn.Linear(n_hidden, 1)\n",
    "        self.linear_P1 = nn.Linear(input_size, n_hidden)\n",
    "        self.linear_P2 = nn.Linear(n_hidden, 1)\n",
    "\n",
    "    def kinetic_energy(self, p):\n",
    "        h_pre = self.linear_K1(p)\n",
    "        h = h_pre.tanh_()\n",
    "        return self.linear_K2(h)\n",
    "\n",
    "    def potential_energy(self, q):\n",
    "        h_pre = self.linear_P1(q)\n",
    "        h = h_pre.tanh_()\n",
    "        return self.linear_P2(h)\n",
    "\n",
    "    def forward(self, p, q):\n",
    "        return self.kinetic_energy(p) + self.potential_energy(q)\n",
    "    \n",
    "class MLP2H_Separable_Hamilt(nn.Module):\n",
    "    def __init__(self, n_hidden, input_size):\n",
    "        super(MLP2H_Separable_Hamilt, self).__init__()\n",
    "        self.linear_K1 = nn.Linear(input_size, n_hidden)\n",
    "        self.linear_K1B = nn.Linear(n_hidden, n_hidden)\n",
    "        self.linear_K2 = nn.Linear(n_hidden, 1)\n",
    "        self.linear_P1 = nn.Linear(input_size, n_hidden)\n",
    "        self.linear_P1B = nn.Linear(n_hidden, n_hidden)\n",
    "        self.linear_P2 = nn.Linear(n_hidden, 1)\n",
    "\n",
    "    def kinetic_energy(self, p):\n",
    "        h_pre = self.linear_K1(p)\n",
    "        h = h_pre.tanh_()\n",
    "        h_pre_B = self.linear_K1B(h)\n",
    "        h_B = h_pre_B.tanh_()\n",
    "        return self.linear_K2(h_B)\n",
    "\n",
    "    def potential_energy(self, q):\n",
    "        h_pre = self.linear_P1(q)\n",
    "        h = h_pre.tanh_()\n",
    "        h_pre_B = self.linear_P1B(h)\n",
    "        h_B = h_pre_B.tanh_()\n",
    "        return self.linear_P2(h_B)\n",
    "\n",
    "    def forward(self, p, q):\n",
    "        return self.kinetic_energy(p) + self.potential_energy(q)\n",
    "\n",
    "\n",
    "class MLP3H_Separable_Hamilt(nn.Module):\n",
    "    def __init__(self, n_hidden, input_size):\n",
    "        super(MLP3H_Separable_Hamilt, self).__init__()\n",
    "        self.linear_K0 = nn.Linear(input_size, n_hidden)\n",
    "        self.linear_K1 = nn.Linear(n_hidden, n_hidden)\n",
    "        self.linear_K2 = nn.Linear(n_hidden, n_hidden)\n",
    "        self.linear_K3 = nn.Linear(n_hidden, 1)\n",
    "        self.linear_P0 = nn.Linear(input_size, n_hidden)\n",
    "        self.linear_P1 = nn.Linear(n_hidden, n_hidden)\n",
    "        self.linear_P2 = nn.Linear(n_hidden, n_hidden)\n",
    "        self.linear_P3 = nn.Linear(n_hidden, 1)\n",
    "\n",
    "    def kinetic_energy(self, p):\n",
    "        h = self.linear_K0(p).tanh_()\n",
    "        h = self.linear_K1(h).tanh_()\n",
    "        h = self.linear_K2(h).tanh_()\n",
    "        return self.linear_K3(h)\n",
    "\n",
    "    def potential_energy(self, q):\n",
    "        h = self.linear_P0(q).tanh_()\n",
    "        h = self.linear_P1(h).tanh_()\n",
    "        h = self.linear_P2(h).tanh_()\n",
    "        return self.linear_P3(h)\n",
    "\n",
    "    def forward(self, p, q):\n",
    "        return self.kinetic_energy(p) + self.potential_energy(q)\n",
    "        \n",
    "class MLP_General_Hamilt(nn.Module):\n",
    "    def __init__(self, n_input, n_hidden):\n",
    "        super(MLP_General_Hamilt, self).__init__()\n",
    "        self.linear1 = nn.Linear(n_input, n_hidden)\n",
    "        self.linear1B = nn.Linear(n_hidden, n_hidden)\n",
    "        self.linear2 = nn.Linear(n_hidden, 1)\n",
    "\n",
    "    def forward(self, p, q):\n",
    "        pq = torch.cat((p, q), 1)\n",
    "        h_pre = self.linear1(pq)\n",
    "        h = h_pre.tanh_()\n",
    "        h_pre_B = self.linear1B(h)\n",
    "        h_B = h_pre_B.tanh_()\n",
    "        return self.linear2(h_B)"
   ]
  },
  {
   "cell_type": "code",
   "execution_count": 20,
   "id": "3ed62598-16bc-4df0-8957-5361b75161e4",
   "metadata": {
    "tags": []
   },
   "outputs": [],
   "source": [
    "def leapfrog(p_0, q_0, Func, T, dt, volatile=True, is_Hamilt=True, device='cpu', use_tqdm=False):\n",
    "\n",
    "    trajectories = torch.empty((T, p_0.shape[0], 2 * p_0.shape[1]), requires_grad=False).to(device)\n",
    "\n",
    "    p = p_0\n",
    "    q = q_0\n",
    "    p.requires_grad_()\n",
    "    q.requires_grad_()\n",
    "\n",
    "    if use_tqdm:\n",
    "        range_of_for_loop = tqdm(range(T))\n",
    "    else:\n",
    "        range_of_for_loop = range(T)\n",
    "\n",
    "    if is_Hamilt:\n",
    "        hamilt = Func(p, q)\n",
    "        dpdt = -grad(hamilt.sum(), q, create_graph=not volatile)[0]\n",
    "\n",
    "        for i in range_of_for_loop:\n",
    "            p_half = p + dpdt * (dt / 2)\n",
    "\n",
    "            if volatile:\n",
    "                trajectories[i, :, :p_0.shape[1]] = p.detach()\n",
    "                trajectories[i, :, p_0.shape[1]:] = q.detach()\n",
    "            else:\n",
    "                trajectories[i, :, :p_0.shape[1]] = p\n",
    "                trajectories[i, :, p_0.shape[1]:] = q\n",
    "\n",
    "            hamilt = Func(p_half, q)\n",
    "            dqdt = grad(hamilt.sum(), p, create_graph=not volatile)[0]\n",
    "\n",
    "            q_next = q + dqdt * dt\n",
    "\n",
    "            hamilt = Func(p_half, q_next)\n",
    "            dpdt = -grad(hamilt.sum(), q_next, create_graph=not volatile)[0]\n",
    "\n",
    "            p_next = p_half + dpdt * (dt / 2)\n",
    "\n",
    "            p = p_next\n",
    "            q = q_next\n",
    "\n",
    "    else:\n",
    "        dim = p_0.shape[1]\n",
    "        time_drvt = Func(torch.cat((p, q), 1))\n",
    "        dpdt = time_drvt[:, :dim]\n",
    "\n",
    "        for i in range_of_for_loop:\n",
    "            p_half = p + dpdt * (dt / 2)\n",
    "\n",
    "            if volatile:\n",
    "                trajectories[i, :, :dim] = p.detach()\n",
    "                trajectories[i, :, dim:] = q.detach()\n",
    "            else:\n",
    "                trajectories[i, :, :dim] = p\n",
    "                trajectories[i, :, dim:] = q\n",
    "\n",
    "            time_drvt = Func(torch.cat((p_half, q), 1))\n",
    "            dqdt = time_drvt[:, dim:]\n",
    "\n",
    "            q_next = q + dqdt * dt\n",
    "\n",
    "            time_drvt = Func(torch.cat((p_half, q_next), 1))\n",
    "            dpdt = time_drvt[:, :dim]\n",
    "\n",
    "            p_next = p_half + dpdt * (dt / 2)\n",
    "\n",
    "            p = p_next\n",
    "            q = q_next\n",
    "\n",
    "    return trajectories\n",
    "\n",
    "\n",
    "def euler(p_0, q_0, Func, T, dt, volatile=True, is_Hamilt=True, device='cpu', use_tqdm=False):\n",
    "\n",
    "    trajectories = torch.empty((T, p_0.shape[0], 2 * p_0.shape[1]), requires_grad=False).to(device)\n",
    "\n",
    "    p = p_0\n",
    "    q = q_0\n",
    "    p.requires_grad_()\n",
    "    q.requires_grad_()\n",
    "\n",
    "    if use_tqdm:\n",
    "        range_of_for_loop = tqdm(range(T))\n",
    "    else:\n",
    "        range_of_for_loop = range(T)\n",
    "\n",
    "    if is_Hamilt:\n",
    "\n",
    "        for i in range_of_for_loop:\n",
    "\n",
    "            if volatile:\n",
    "                trajectories[i, :, :p_0.shape[1]] = p.detach()\n",
    "                trajectories[i, :, p_0.shape[1]:] = q.detach()\n",
    "            else:\n",
    "                trajectories[i, :, :p_0.shape[1]] = p\n",
    "                trajectories[i, :, p_0.shape[1]:] = q\n",
    "\n",
    "            hamilt = Func(p, q)\n",
    "            dpdt = -grad(hamilt.sum(), q, create_graph=not volatile)[0]\n",
    "            dqdt = grad(hamilt.sum(), p, create_graph=not volatile)[0]\n",
    "\n",
    "            p_next = p + dpdt * dt\n",
    "            q_next = q + dqdt * dt\n",
    "\n",
    "            p = p_next\n",
    "            q = q_next\n",
    "\n",
    "    else:\n",
    "        dim = p_0.shape[1]\n",
    "\n",
    "        for i in range_of_for_loop:\n",
    "\n",
    "            if volatile:\n",
    "                trajectories[i, :, :dim] = p.detach()\n",
    "                trajectories[i, :, dim:] = q.detach()\n",
    "            else:\n",
    "                trajectories[i, :, :dim] = p\n",
    "                trajectories[i, :, dim:] = q\n",
    "\n",
    "            time_drvt = Func(torch.cat((p, q), 1))\n",
    "            dpdt = time_drvt[:, :dim]\n",
    "            dqdt = time_drvt[:, dim:]\n",
    "\n",
    "            p_next = p + dpdt * dt\n",
    "            q_next = q + dqdt * dt\n",
    "\n",
    "            p = p_next\n",
    "            q = q_next\n",
    "\n",
    "    return trajectories\n",
    "\n",
    "\n",
    "def numerically_integrate(integrator, p_0, q_0, model, method, T, dt, volatile, device, coarsening_factor=1):\n",
    "    if (coarsening_factor > 1):\n",
    "        fine_trajectory = numerically_integrate(integrator, p_0, q_0, model, method, T * coarsening_factor, dt / coarsening_factor, volatile, device)\n",
    "        trajectory_simulated = fine_trajectory[np.arange(T) * coarsening_factor, :, :]\n",
    "        return trajectory_simulated\n",
    "    if (method == 5):\n",
    "        if (integrator == 'leapfrog'):\n",
    "            trajectory_simulated = leapfrog(p_0, q_0, model, T, dt, volatile=volatile, device=device)\n",
    "        elif (integrator == 'euler'):\n",
    "            trajectory_simulated = euler(p_0, q_0, model, T, dt, volatile=volatile, device=device)\n",
    "    elif (method == 1):\n",
    "        if (integrator == 'leapfrog'):\n",
    "            trajectory_simulated = leapfrog(p_0, q_0, model, T, dt, volatile=volatile, is_Hamilt=False, device=device)\n",
    "        elif (integrator == 'euler'):\n",
    "            trajectory_simulated = euler(p_0, q_0, model, T, dt, volatile=volatile, is_Hamilt=False, device=device)\n",
    "    else:\n",
    "        trajectory_simulated = model(torch.cat([p_0, q_0], dim=1), T)\n",
    "    return trajectory_simulated\n"
   ]
  },
  {
   "cell_type": "code",
   "execution_count": 21,
   "id": "8d8cdaec-ebf3-42da-b73e-c134afa8e6df",
   "metadata": {
    "tags": []
   },
   "outputs": [],
   "source": [
    "def predict(test_data, model, method, integrator, device, T_test, dt):\n",
    "    print(integrator)\n",
    "    dim = 20\n",
    "    model = model.to(device).to(dtype=torch.float64)\n",
    "    model.eval()\n",
    "\n",
    "    z_0_npy = test_data[0, :, :]\n",
    "\n",
    "    z_0 = torch.from_numpy(z_0_npy).to(device).to(dtype=torch.float64)\n",
    "\n",
    "    trajectory_predicted = numerically_integrate(integrator=integrator, p_0=z_0[:, :dim], q_0=z_0[:, dim:], model=model, \\\n",
    "        method=method, T=T_test, dt=dt, volatile=True, device=device, coarsening_factor=1).to(torch.float64)\n",
    "\n",
    "    return trajectory_predicted"
   ]
  },
  {
   "cell_type": "code",
   "execution_count": 22,
   "id": "da73a1d4-7b5b-4a84-bae0-384a7f0ac631",
   "metadata": {
    "tags": []
   },
   "outputs": [],
   "source": [
    "def train(integrator_train = 'euler'):\n",
    "    if torch.cuda.is_available():\n",
    "        device = torch.device('cuda:0')\n",
    "    else:\n",
    "        device = torch.device('cpu')\n",
    "    n_samples = 1000\n",
    "    batch_size = 32\n",
    "    dim = 20\n",
    "    max_t = 100\n",
    "    n_epochs = 100\n",
    "    # integrator_train = integrator_train\n",
    "    dt = 0.1\n",
    "    method = 5\n",
    "    # data = get_dataset(seed = 42, samples = n_samples, noise = False)\n",
    "    # x = np.transpose(data['x'], (1, 0, 2))\n",
    "    # test_x = np.transpose(data['test_x'], (1, 0, 2))\n",
    "    data = np.load(\"train_data_chain_newA.npy\")\n",
    "    test_data = np.load(\"test_data_chain_newA.npy\")\n",
    "    # data = x.copy()\n",
    "    # test_data = test_x.copy()\n",
    "    mse = nn.MSELoss()\n",
    "    z_0_npy = data[0, :, :]\n",
    "    model = MLP1H_Separable_Hamilt(2048, dim)\n",
    "    model = model.to(device).to(dtype=torch.float64)\n",
    "    # data = data.to(device)\n",
    "    # test_data = test_data.to(device)\n",
    "    # scheduler = ReduceLROnPlateau(opt_model, 'min', patience = scheduler_patience, verbose=True, factor=scheduler_factor)\n",
    "    params_lst = model.parameters()\n",
    "    opt_model = torch.optim.Adam(params_lst, lr=0.001)\n",
    "    loss_record = []\n",
    "    if torch.cuda.is_available():\n",
    "        device = torch.device('cuda:0')\n",
    "    else:\n",
    "        device = torch.device('cpu')\n",
    "    for epoch in tqdm(range(n_epochs)):\n",
    "        total_error = 0\n",
    "        perm = torch.randperm(n_samples).numpy().tolist()\n",
    "        data_permed = data[:, perm, :]\n",
    "        z_0_npy_permed = z_0_npy[perm, :]\n",
    "        for i in range(0, n_samples, batch_size):\n",
    "            opt_model.zero_grad()\n",
    "            if i+batch_size > n_samples:\n",
    "                break\n",
    "            batch = data_permed[:max_t, i:(i+batch_size), :]\n",
    "            z_0_batch_npy = z_0_npy_permed[i:(i+batch_size), :]\n",
    "            z_0_batch = torch.from_numpy(z_0_batch_npy).to(dtype=torch.float64)\n",
    "            z_0_batch_device = z_0_batch.to(device)\n",
    "            p_0 = z_0_batch_device[:, :dim]\n",
    "            q_0 = z_0_batch_device[:, dim:]\n",
    "            trajectory_simulated = numerically_integrate(integrator=integrator_train, p_0=p_0, q_0=q_0, model=model, \\\n",
    "                        method=method, T=max_t, dt=dt, volatile=False, device=device, coarsening_factor=1).to(torch.float64)\n",
    "            error_total = mse(trajectory_simulated[:max_t, :, :], torch.from_numpy(batch[:max_t, :, :]).to(device).to(dtype=torch.float64))\n",
    "            error_total.backward()\n",
    "            opt_model.step()\n",
    "            total_error += error_total.item() * batch_size\n",
    "        avg_loss_epoch = total_error/n_samples\n",
    "        loss_record.append(avg_loss_epoch)\n",
    "    return model, loss_record, test_data, device"
   ]
  },
  {
   "cell_type": "code",
   "execution_count": null,
   "id": "2714b4a9-1152-441b-8910-7ef3373e3def",
   "metadata": {
    "tags": []
   },
   "outputs": [
    {
     "name": "stderr",
     "output_type": "stream",
     "text": [
      " 82%|██████████████████████████████████▍       | 82/100 [54:59<09:52, 32.90s/it]"
     ]
    }
   ],
   "source": [
    "model_euler, loss_euler, test_data, device = train(\"euler\")\n",
    "model_leapfrog, loss_leapfrog, test_data, device = train(\"leapfrog\")"
   ]
  },
  {
   "cell_type": "code",
   "execution_count": 9,
   "id": "86cb2a13-3f25-415a-aedf-67091ec04c56",
   "metadata": {
    "tags": []
   },
   "outputs": [
    {
     "name": "stdout",
     "output_type": "stream",
     "text": [
      "[0.5235827956453751, 0.4780518174029126, 0.43804988887088514, 0.4216869777390221, 0.39226752431046724, 0.3667488071077468, 0.3517663808869517, 0.32668403899142734, 0.29714085381996386, 0.27981098789603875, 0.26135170132713037, 0.2368544082098451, 0.21817302747176093, 0.19888989633687412, 0.18108961123398387, 0.16663278201078793, 0.14527813332966838, 0.1311217844199969, 0.11899934095827941, 0.10486724917349885, 0.094858652563596, 0.08333260345089454, 0.07482242690720065, 0.06657967620012215, 0.06049566970520418, 0.05525909596985937, 0.050502311970434886, 0.045262992336477514, 0.04150912547276343, 0.03750164544773263, 0.03440202286313616, 0.031807402194281596, 0.02899120761524925, 0.027392489193558717, 0.02498395970953599, 0.02332047851023021, 0.02137054185821569, 0.01988886145174151, 0.01856895138208701, 0.01681667130580414, 0.016074354743531007, 0.015000176399742764, 0.013812770355024815, 0.01279177402904308, 0.011976939620139576, 0.01114929930184389, 0.010568138202226861, 0.009750845835303954, 0.009138077606103849, 0.008699387375327057, 0.008093882196377737, 0.0076313322123468886, 0.007217459315659507, 0.006807649593885332, 0.006404453901769969, 0.006066863297045783, 0.005797340026423219, 0.005409846753761516, 0.005168425665865788, 0.004887479543117425, 0.004477759204383205, 0.004314633918993656, 0.004074364738539561, 0.0037086568664028304, 0.003535418615646905, 0.003448113290081567, 0.003317959945924649, 0.003135147018628171, 0.0029805367644942073, 0.002821839045093761, 0.0026583583579623334, 0.002518783384438183, 0.0023897449761334367, 0.0022241653514227435, 0.002124440232328009, 0.0020587956342198606, 0.0019659116405494797, 0.0018776817471372182, 0.0017689255431616265, 0.0016282868581429977, 0.0016308317547969464, 0.0015564146307102034, 0.0014802355806683195, 0.001428613794789092, 0.0013549538432150524, 0.0013020022026721456, 0.001221732590393407, 0.0011735051126154973, 0.0011220623147227245, 0.0010812970758234783, 0.0010251538297430015, 0.0009675116641706821, 0.0009509544635663372, 0.0009102807824372026, 0.000875910546299321, 0.0008354051736139093, 0.0008164080343392122, 0.0007694103694375877, 0.0007407459723395397, 0.0007129873481660264]\n",
      "[0.5274772737683762, 0.4785043627821001, 0.4420506007916003, 0.42648290797302635, 0.38372696084590463, 0.36992898478952446, 0.3441052828609108, 0.3180302212516761, 0.2998224127301906, 0.27197695935590604, 0.25275071291659645, 0.23269949106566717, 0.21300896359188207, 0.18533749324865476, 0.17545431471302553, 0.15713200997884383, 0.14343534295352922, 0.12878117741061568, 0.11513598647554754, 0.10173241363383033, 0.08987297440695238, 0.0818808079867938, 0.07334611146648796, 0.0662449316157995, 0.059451174753033104, 0.051710709544075535, 0.05005354648382074, 0.044874344503892355, 0.04079735730717978, 0.03850848514826002, 0.03497428933384708, 0.032291968952535714, 0.029425671974382627, 0.02717778852433047, 0.02549683929923847, 0.02361189042231707, 0.02200814820395282, 0.020174661720464254, 0.018631144522539028, 0.017397056693088216, 0.015960775686328012, 0.014879868110692617, 0.014002955369828976, 0.013020015950142938, 0.012279367501884488, 0.011624051683080412, 0.010653680556387157, 0.009881509138257638, 0.009375997029977452, 0.009010530993142371, 0.008372244559712132, 0.007875054032495577, 0.007011590046691606, 0.006966887635772596, 0.006543953231916344, 0.0061766291362766925, 0.0057612840305899995, 0.00543876957712312, 0.005003335465150583, 0.004838219752317125, 0.004656126283075799, 0.004400223936707099, 0.004169994503941962, 0.003858546729698433, 0.0037701737974701445, 0.0035482657091665992, 0.003347793566592088, 0.003157061414867784, 0.0029784921696083887, 0.002818084089758989, 0.0027481103535490882, 0.002643712928377905, 0.002535739847158899, 0.0023000912941735295, 0.0021415772058888493, 0.0021212608885233684, 0.002075279642297946, 0.0019543936420765794, 0.00184972768487871, 0.0017752441695191709, 0.0016684903561546163, 0.0015195052770884052, 0.0014712887050402363, 0.0014251067404686974, 0.001390638615361424, 0.0013029680244687517, 0.0012633522386795411, 0.0012201130221972981, 0.0011171178155336533, 0.0010928070150757233, 0.001055955605866302, 0.0010173001185170125, 0.0009461429263268594, 0.0008976475222244866, 0.0008897929820801705, 0.0008586630026409615, 0.0008084712055583174, 0.0007909275219729518, 0.0007240574231927777, 0.0007386488348789315]\n"
     ]
    }
   ],
   "source": [
    "print(loss_euler)\n",
    "print(loss_leapfrog)"
   ]
  },
  {
   "cell_type": "code",
   "execution_count": 14,
   "id": "41118c91-0d33-4782-b258-8688116d0bb4",
   "metadata": {
    "tags": []
   },
   "outputs": [
    {
     "data": {
      "image/png": "[encoded data removed]",
      "text/plain": [
       "<Figure size 640x480 with 1 Axes>"
      ]
     },
     "metadata": {},
     "output_type": "display_data"
    }
   ],
   "source": [
    "import matplotlib.pyplot as plt\n",
    "\n",
    "plt.plot(range(len(loss_euler)), loss_euler, label = \"euler\")\n",
    "plt.plot(range(len(loss_leapfrog)), loss_leapfrog, label = \"leapfrog\")\n",
    "\n",
    "plt.show()"
   ]
  },
  {
   "cell_type": "code",
   "execution_count": 15,
   "id": "a2ac9dd9-3d37-47db-924c-c198d86e5c01",
   "metadata": {
    "tags": []
   },
   "outputs": [
    {
     "name": "stdout",
     "output_type": "stream",
     "text": [
      "euler\n",
      "euler\n",
      "leapfrog\n",
      "leapfrog\n"
     ]
    }
   ],
   "source": [
    "predicted_trajectory_euler = predict(test_data, model_euler, 5, \"euler\", device, 50, 0.01).cpu().numpy()\n",
    "predicted_trajectory_leapfrog = predict(test_data, model_leapfrog, 5, \"leapfrog\", device, 50, 0.01).cpu().numpy()\n",
    "test_error_euler = np.linalg.norm(predicted_trajectory_euler - test_data, axis = -1)\n",
    "test_error_leapfrog = np.linalg.norm(predicted_trajectory_leapfrog - test_data, axis = -1)"
   ]
  },
  {
   "cell_type": "code",
   "execution_count": 16,
   "id": "659a024f-b002-4a80-b372-24a453688be5",
   "metadata": {
    "tags": []
   },
   "outputs": [
    {
     "name": "stdout",
     "output_type": "stream",
     "text": [
      "[0.         0.07401224 0.14802408 0.22203424 0.29604148 0.37004448\n",
      " 0.44404199 0.51803274 0.59201548 0.66598892 0.73995181 0.81390285\n",
      " 0.88784078 0.96176435 1.03567227 1.10956328 1.18343613 1.25728951\n",
      " 1.3311222  1.40493291 1.47872038 1.55248334 1.62622053 1.69993067\n",
      " 1.77361251 1.84726478 1.92088624 1.9944756  2.0680316  2.14155298\n",
      " 2.2150385  2.28848687 2.36189686 2.43526719 2.50859663 2.58188391\n",
      " 2.65512777 2.72832694 2.8014802  2.87458627 2.94764392 3.02065189\n",
      " 3.09360893 3.16651381 3.23936526 3.31216204 3.38490291 3.45758664\n",
      " 3.53021196 3.60277765]\n",
      "[0.         0.07397578 0.14795116 0.22192488 0.29589568 0.36986227\n",
      " 0.44382338 0.51777775 0.59172411 0.66566118 0.73958771 0.81350242\n",
      " 0.88740402 0.96129127 1.0351629  1.10901762 1.18285418 1.2566713\n",
      " 1.33046774 1.40424221 1.47799345 1.5517202  1.62542117 1.69909512\n",
      " 1.77274078 1.84635688 1.91994218 1.99349539 2.06701525 2.14050051\n",
      " 2.21394991 2.28736219 2.36073608 2.43407034 2.50736371 2.58061493\n",
      " 2.65382275 2.72698589 2.80010312 2.87317318 2.94619482 3.01916681\n",
      " 3.09208788 3.16495678 3.23777228 3.31053311 3.38323806 3.45588586\n",
      " 3.52847526 3.60100504]\n"
     ]
    }
   ],
   "source": [
    "print(test_error_euler.mean(axis = 1))\n",
    "print(test_error_leapfrog.mean(axis = 1))"
   ]
  },
  {
   "cell_type": "code",
   "execution_count": 13,
   "id": "98f62632-4ffa-4fdb-bf25-d9525e2b5ca9",
   "metadata": {
    "tags": []
   },
   "outputs": [
    {
     "data": {
      "image/png": "[encoded data removed]",
      "text/plain": [
       "<Figure size 640x480 with 1 Axes>"
      ]
     },
     "metadata": {},
     "output_type": "display_data"
    }
   ],
   "source": [
    "plt.plot(range(test_error_euler.shape[0]), test_error_euler.mean(axis = (1)), label = 'euler')\n",
    "plt.plot(range(test_error_leapfrog.shape[0]), test_error_leapfrog.mean(axis = (1)), label = 'leapfrog')\n",
    "plt.xlabel('time steps')\n",
    "plt.ylabel('mean l2 error')\n",
    "plt.legend()\n",
    "plt.show()"
   ]
  },
  {
   "cell_type": "code",
   "execution_count": null,
   "id": "08f455fd-d5ee-413d-a97c-e0c512ced284",
   "metadata": {},
   "outputs": [],
   "source": []
  }
 ],
 "metadata": {
  "kernelspec": {
   "display_name": "Python (PINNs)",
   "language": "python",
   "name": "pinns"
  },
  "language_info": {
   "codemirror_mode": {
    "name": "ipython",
    "version": 3
   },
   "file_extension": ".py",
   "mimetype": "text/x-python",
   "name": "python",
   "nbconvert_exporter": "python",
   "pygments_lexer": "ipython3",
   "version": "3.8.17"
  }
 },
 "nbformat": 4,
 "nbformat_minor": 5
}
